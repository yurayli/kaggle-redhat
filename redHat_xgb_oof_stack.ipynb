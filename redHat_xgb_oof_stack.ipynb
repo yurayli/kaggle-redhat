{
 "cells": [
  {
   "cell_type": "markdown",
   "metadata": {},
   "source": [
    "### XGBoost"
   ]
  },
  {
   "cell_type": "code",
   "execution_count": 1,
   "metadata": {},
   "outputs": [
    {
     "name": "stderr",
     "output_type": "stream",
     "text": [
      "Using Theano backend.\n",
      "/Library/Frameworks/Python.framework/Versions/2.7/lib/python2.7/site-packages/sklearn/cross_validation.py:41: DeprecationWarning: This module was deprecated in version 0.18 in favor of the model_selection module into which all the refactored classes and functions are moved. Also note that the interface of the new CV iterators are different from that of this module. This module will be removed in 0.20.\n",
      "  \"This module will be removed in 0.20.\", DeprecationWarning)\n"
     ]
    }
   ],
   "source": [
    "%matplotlib inline\n",
    "from utils import *\n",
    "import xgboost as xgb\n",
    "from time import time"
   ]
  },
  {
   "cell_type": "code",
   "execution_count": 2,
   "metadata": {},
   "outputs": [],
   "source": [
    "act_train_data = pd.read_csv(\"./act_train.csv\", \n",
    "                             dtype={'people_id': np.str, 'activity_id': np.str, 'outcome': np.int8}, \n",
    "                             parse_dates=['date'])\n",
    "act_test_data  = pd.read_csv(\"./act_test.csv\", \n",
    "                             dtype={'people_id': np.str, 'activity_id': np.str}, parse_dates=['date'])\n",
    "people_data    = pd.read_csv(\"./people.csv\", \n",
    "                             dtype={'people_id': np.str, 'activity_id': np.str, 'char_38': np.int32}, \n",
    "                             parse_dates=['date'])"
   ]
  },
  {
   "cell_type": "code",
   "execution_count": 3,
   "metadata": {},
   "outputs": [
    {
     "data": {
      "text/html": [
       "<div>\n",
       "<table border=\"1\" class=\"dataframe\">\n",
       "  <thead>\n",
       "    <tr style=\"text-align: right;\">\n",
       "      <th></th>\n",
       "      <th>people_id</th>\n",
       "      <th>activity_id</th>\n",
       "      <th>date</th>\n",
       "      <th>activity_category</th>\n",
       "      <th>char_1</th>\n",
       "      <th>char_2</th>\n",
       "      <th>char_3</th>\n",
       "      <th>char_4</th>\n",
       "      <th>char_5</th>\n",
       "      <th>char_6</th>\n",
       "      <th>char_7</th>\n",
       "      <th>char_8</th>\n",
       "      <th>char_9</th>\n",
       "      <th>char_10</th>\n",
       "      <th>outcome</th>\n",
       "    </tr>\n",
       "  </thead>\n",
       "  <tbody>\n",
       "    <tr>\n",
       "      <th>0</th>\n",
       "      <td>ppl_100</td>\n",
       "      <td>act2_1734928</td>\n",
       "      <td>2023-08-26</td>\n",
       "      <td>type 4</td>\n",
       "      <td>NaN</td>\n",
       "      <td>NaN</td>\n",
       "      <td>NaN</td>\n",
       "      <td>NaN</td>\n",
       "      <td>NaN</td>\n",
       "      <td>NaN</td>\n",
       "      <td>NaN</td>\n",
       "      <td>NaN</td>\n",
       "      <td>NaN</td>\n",
       "      <td>type 76</td>\n",
       "      <td>0</td>\n",
       "    </tr>\n",
       "    <tr>\n",
       "      <th>1</th>\n",
       "      <td>ppl_100</td>\n",
       "      <td>act2_2434093</td>\n",
       "      <td>2022-09-27</td>\n",
       "      <td>type 2</td>\n",
       "      <td>NaN</td>\n",
       "      <td>NaN</td>\n",
       "      <td>NaN</td>\n",
       "      <td>NaN</td>\n",
       "      <td>NaN</td>\n",
       "      <td>NaN</td>\n",
       "      <td>NaN</td>\n",
       "      <td>NaN</td>\n",
       "      <td>NaN</td>\n",
       "      <td>type 1</td>\n",
       "      <td>0</td>\n",
       "    </tr>\n",
       "    <tr>\n",
       "      <th>2</th>\n",
       "      <td>ppl_100</td>\n",
       "      <td>act2_3404049</td>\n",
       "      <td>2022-09-27</td>\n",
       "      <td>type 2</td>\n",
       "      <td>NaN</td>\n",
       "      <td>NaN</td>\n",
       "      <td>NaN</td>\n",
       "      <td>NaN</td>\n",
       "      <td>NaN</td>\n",
       "      <td>NaN</td>\n",
       "      <td>NaN</td>\n",
       "      <td>NaN</td>\n",
       "      <td>NaN</td>\n",
       "      <td>type 1</td>\n",
       "      <td>0</td>\n",
       "    </tr>\n",
       "  </tbody>\n",
       "</table>\n",
       "</div>"
      ],
      "text/plain": [
       "  people_id   activity_id       date activity_category char_1 char_2 char_3  \\\n",
       "0   ppl_100  act2_1734928 2023-08-26            type 4    NaN    NaN    NaN   \n",
       "1   ppl_100  act2_2434093 2022-09-27            type 2    NaN    NaN    NaN   \n",
       "2   ppl_100  act2_3404049 2022-09-27            type 2    NaN    NaN    NaN   \n",
       "\n",
       "  char_4 char_5 char_6 char_7 char_8 char_9  char_10  outcome  \n",
       "0    NaN    NaN    NaN    NaN    NaN    NaN  type 76        0  \n",
       "1    NaN    NaN    NaN    NaN    NaN    NaN   type 1        0  \n",
       "2    NaN    NaN    NaN    NaN    NaN    NaN   type 1        0  "
      ]
     },
     "execution_count": 3,
     "metadata": {},
     "output_type": "execute_result"
    }
   ],
   "source": [
    "act_train_data[:3]"
   ]
  },
  {
   "cell_type": "code",
   "execution_count": 4,
   "metadata": {
    "scrolled": true
   },
   "outputs": [
    {
     "name": "stdout",
     "output_type": "stream",
     "text": [
      "<class 'pandas.core.frame.DataFrame'>\n",
      "RangeIndex: 2197291 entries, 0 to 2197290\n",
      "Data columns (total 15 columns):\n",
      "people_id            object\n",
      "activity_id          object\n",
      "date                 datetime64[ns]\n",
      "activity_category    object\n",
      "char_1               object\n",
      "char_2               object\n",
      "char_3               object\n",
      "char_4               object\n",
      "char_5               object\n",
      "char_6               object\n",
      "char_7               object\n",
      "char_8               object\n",
      "char_9               object\n",
      "char_10              object\n",
      "outcome              int8\n",
      "dtypes: datetime64[ns](1), int8(1), object(13)\n",
      "memory usage: 236.8+ MB\n"
     ]
    }
   ],
   "source": [
    "act_train_data.info()"
   ]
  },
  {
   "cell_type": "code",
   "execution_count": 5,
   "metadata": {},
   "outputs": [
    {
     "data": {
      "text/html": [
       "<div>\n",
       "<table border=\"1\" class=\"dataframe\">\n",
       "  <thead>\n",
       "    <tr style=\"text-align: right;\">\n",
       "      <th></th>\n",
       "      <th>people_id</th>\n",
       "      <th>char_1</th>\n",
       "      <th>group_1</th>\n",
       "      <th>char_2</th>\n",
       "      <th>date</th>\n",
       "      <th>char_3</th>\n",
       "      <th>char_4</th>\n",
       "      <th>char_5</th>\n",
       "      <th>char_6</th>\n",
       "      <th>char_7</th>\n",
       "      <th>...</th>\n",
       "      <th>char_29</th>\n",
       "      <th>char_30</th>\n",
       "      <th>char_31</th>\n",
       "      <th>char_32</th>\n",
       "      <th>char_33</th>\n",
       "      <th>char_34</th>\n",
       "      <th>char_35</th>\n",
       "      <th>char_36</th>\n",
       "      <th>char_37</th>\n",
       "      <th>char_38</th>\n",
       "    </tr>\n",
       "  </thead>\n",
       "  <tbody>\n",
       "    <tr>\n",
       "      <th>0</th>\n",
       "      <td>ppl_100</td>\n",
       "      <td>type 2</td>\n",
       "      <td>group 17304</td>\n",
       "      <td>type 2</td>\n",
       "      <td>2021-06-29</td>\n",
       "      <td>type 5</td>\n",
       "      <td>type 5</td>\n",
       "      <td>type 5</td>\n",
       "      <td>type 3</td>\n",
       "      <td>type 11</td>\n",
       "      <td>...</td>\n",
       "      <td>False</td>\n",
       "      <td>True</td>\n",
       "      <td>True</td>\n",
       "      <td>False</td>\n",
       "      <td>False</td>\n",
       "      <td>True</td>\n",
       "      <td>True</td>\n",
       "      <td>True</td>\n",
       "      <td>False</td>\n",
       "      <td>36</td>\n",
       "    </tr>\n",
       "    <tr>\n",
       "      <th>1</th>\n",
       "      <td>ppl_100002</td>\n",
       "      <td>type 2</td>\n",
       "      <td>group 8688</td>\n",
       "      <td>type 3</td>\n",
       "      <td>2021-01-06</td>\n",
       "      <td>type 28</td>\n",
       "      <td>type 9</td>\n",
       "      <td>type 5</td>\n",
       "      <td>type 3</td>\n",
       "      <td>type 11</td>\n",
       "      <td>...</td>\n",
       "      <td>False</td>\n",
       "      <td>True</td>\n",
       "      <td>True</td>\n",
       "      <td>True</td>\n",
       "      <td>True</td>\n",
       "      <td>True</td>\n",
       "      <td>True</td>\n",
       "      <td>True</td>\n",
       "      <td>False</td>\n",
       "      <td>76</td>\n",
       "    </tr>\n",
       "    <tr>\n",
       "      <th>2</th>\n",
       "      <td>ppl_100003</td>\n",
       "      <td>type 2</td>\n",
       "      <td>group 33592</td>\n",
       "      <td>type 3</td>\n",
       "      <td>2022-06-10</td>\n",
       "      <td>type 4</td>\n",
       "      <td>type 8</td>\n",
       "      <td>type 5</td>\n",
       "      <td>type 2</td>\n",
       "      <td>type 5</td>\n",
       "      <td>...</td>\n",
       "      <td>False</td>\n",
       "      <td>False</td>\n",
       "      <td>True</td>\n",
       "      <td>True</td>\n",
       "      <td>True</td>\n",
       "      <td>True</td>\n",
       "      <td>False</td>\n",
       "      <td>True</td>\n",
       "      <td>True</td>\n",
       "      <td>99</td>\n",
       "    </tr>\n",
       "  </tbody>\n",
       "</table>\n",
       "<p>3 rows × 41 columns</p>\n",
       "</div>"
      ],
      "text/plain": [
       "    people_id  char_1      group_1  char_2       date   char_3  char_4  \\\n",
       "0     ppl_100  type 2  group 17304  type 2 2021-06-29   type 5  type 5   \n",
       "1  ppl_100002  type 2   group 8688  type 3 2021-01-06  type 28  type 9   \n",
       "2  ppl_100003  type 2  group 33592  type 3 2022-06-10   type 4  type 8   \n",
       "\n",
       "   char_5  char_6   char_7   ...   char_29 char_30 char_31 char_32 char_33  \\\n",
       "0  type 5  type 3  type 11   ...     False    True    True   False   False   \n",
       "1  type 5  type 3  type 11   ...     False    True    True    True    True   \n",
       "2  type 5  type 2   type 5   ...     False   False    True    True    True   \n",
       "\n",
       "  char_34 char_35 char_36 char_37 char_38  \n",
       "0    True    True    True   False      36  \n",
       "1    True    True    True   False      76  \n",
       "2    True   False    True    True      99  \n",
       "\n",
       "[3 rows x 41 columns]"
      ]
     },
     "execution_count": 5,
     "metadata": {},
     "output_type": "execute_result"
    }
   ],
   "source": [
    "people_data[:3]"
   ]
  },
  {
   "cell_type": "code",
   "execution_count": 6,
   "metadata": {
    "scrolled": true
   },
   "outputs": [
    {
     "name": "stdout",
     "output_type": "stream",
     "text": [
      "<class 'pandas.core.frame.DataFrame'>\n",
      "RangeIndex: 189118 entries, 0 to 189117\n",
      "Data columns (total 41 columns):\n",
      "people_id    189118 non-null object\n",
      "char_1       189118 non-null object\n",
      "group_1      189118 non-null object\n",
      "char_2       189118 non-null object\n",
      "date         189118 non-null datetime64[ns]\n",
      "char_3       189118 non-null object\n",
      "char_4       189118 non-null object\n",
      "char_5       189118 non-null object\n",
      "char_6       189118 non-null object\n",
      "char_7       189118 non-null object\n",
      "char_8       189118 non-null object\n",
      "char_9       189118 non-null object\n",
      "char_10      189118 non-null bool\n",
      "char_11      189118 non-null bool\n",
      "char_12      189118 non-null bool\n",
      "char_13      189118 non-null bool\n",
      "char_14      189118 non-null bool\n",
      "char_15      189118 non-null bool\n",
      "char_16      189118 non-null bool\n",
      "char_17      189118 non-null bool\n",
      "char_18      189118 non-null bool\n",
      "char_19      189118 non-null bool\n",
      "char_20      189118 non-null bool\n",
      "char_21      189118 non-null bool\n",
      "char_22      189118 non-null bool\n",
      "char_23      189118 non-null bool\n",
      "char_24      189118 non-null bool\n",
      "char_25      189118 non-null bool\n",
      "char_26      189118 non-null bool\n",
      "char_27      189118 non-null bool\n",
      "char_28      189118 non-null bool\n",
      "char_29      189118 non-null bool\n",
      "char_30      189118 non-null bool\n",
      "char_31      189118 non-null bool\n",
      "char_32      189118 non-null bool\n",
      "char_33      189118 non-null bool\n",
      "char_34      189118 non-null bool\n",
      "char_35      189118 non-null bool\n",
      "char_36      189118 non-null bool\n",
      "char_37      189118 non-null bool\n",
      "char_38      189118 non-null int32\n",
      "dtypes: bool(28), datetime64[ns](1), int32(1), object(11)\n",
      "memory usage: 23.1+ MB\n"
     ]
    }
   ],
   "source": [
    "people_data.info()"
   ]
  },
  {
   "cell_type": "code",
   "execution_count": 7,
   "metadata": {},
   "outputs": [
    {
     "name": "stdout",
     "output_type": "stream",
     "text": [
      "Train data shape: (2197291, 15)\n",
      "Test data shape: (498687, 14)\n",
      "People data shape: (189118, 41)\n"
     ]
    }
   ],
   "source": [
    "print(\"Train data shape: \" + format(act_train_data.shape))\n",
    "print(\"Test data shape: \" + format(act_test_data.shape))\n",
    "print(\"People data shape: \" + format(people_data.shape))"
   ]
  },
  {
   "cell_type": "code",
   "execution_count": 3,
   "metadata": {
    "scrolled": false
   },
   "outputs": [],
   "source": [
    "def reduce_dim(dataset, column):\n",
    "    # collect those showing only once to one category\n",
    "    for index, dup in dataset[column].duplicated(keep=False).iteritems():\n",
    "        if not dup:\n",
    "            dataset.set_value(index, column, -1)\n",
    "    # collect categories showing below four times to one category\n",
    "    #category_count = dataset.groupby(column)[column].count()\n",
    "    #try:\n",
    "    #    dataset[column].replace(category_count[category_count<4].index, -1, inplace=True)\n",
    "    #except:\n",
    "    #    pass\n",
    "    \n",
    "    # re-index\n",
    "    new_index = {idx:i for i, idx in enumerate(dataset[column].unique())}\n",
    "    dataset[column] = dataset[column].apply(lambda x: new_index[x])\n",
    "    return dataset\n",
    "    \n",
    "def act_data_treatment(dataset):\n",
    "    for col in list(dataset.columns):\n",
    "        if col not in ['people_id', 'activity_id', 'date', 'char_38', 'outcome']:\n",
    "            if dataset[col].dtype == 'object':\n",
    "                # regard NA as a category\n",
    "                dataset[col].fillna('type 0', inplace=True)\n",
    "                dataset[col] = dataset[col].apply(lambda x: x.split(' ')[1]).astype(np.int32)\n",
    "            elif dataset[col].dtype == 'bool':\n",
    "                # change binary feature to type int (0/1)\n",
    "                dataset[col] = dataset[col].astype(np.int8)\n",
    "    \n",
    "    dataset['year'] = dataset['date'].dt.year\n",
    "    dataset['month'] = dataset['date'].dt.month\n",
    "    dataset['day'] = dataset['date'].dt.day\n",
    "    dataset['isweekend'] = (dataset['date'].dt.weekday >= 5).astype('int8')\n",
    "    dataset = dataset.drop('date', axis=1)\n",
    "    \n",
    "    return dataset"
   ]
  },
  {
   "cell_type": "code",
   "execution_count": 4,
   "metadata": {},
   "outputs": [
    {
     "name": "stdout",
     "output_type": "stream",
     "text": [
      "Train data shape: (2197291, 14)\n",
      "Test data shape: (498687, 13)\n",
      "People data shape: (189118, 41)\n"
     ]
    }
   ],
   "source": [
    "act_train_data = act_train_data.drop('char_10', axis=1)\n",
    "act_test_data = act_test_data.drop('char_10', axis=1)\n",
    "\n",
    "print(\"Train data shape: \" + format(act_train_data.shape))\n",
    "print(\"Test data shape: \" + format(act_test_data.shape))\n",
    "print(\"People data shape: \" + format(people_data.shape))"
   ]
  },
  {
   "cell_type": "code",
   "execution_count": 5,
   "metadata": {},
   "outputs": [
    {
     "name": "stdout",
     "output_type": "stream",
     "text": [
      "CPU times: user 33.4 s, sys: 2.26 s, total: 35.7 s\n",
      "Wall time: 36 s\n"
     ]
    }
   ],
   "source": [
    "%%time\n",
    "act_train_data = act_data_treatment(act_train_data)\n",
    "act_test_data  = act_data_treatment(act_test_data)\n",
    "people_data    = act_data_treatment(people_data)"
   ]
  },
  {
   "cell_type": "code",
   "execution_count": 6,
   "metadata": {},
   "outputs": [
    {
     "name": "stdout",
     "output_type": "stream",
     "text": [
      "Train data shape: (2197291, 60)\n",
      "Test data shape: (498687, 59)\n"
     ]
    }
   ],
   "source": [
    "train = act_train_data.merge(people_data, on='people_id', how='left')\n",
    "test  = act_test_data.merge(people_data, on='people_id', how='left')\n",
    "act_id = act_test_data['activity_id']\n",
    "\n",
    "del act_train_data, act_test_data, people_data\n",
    "print(\"Train data shape: \" + format(train.shape))\n",
    "print(\"Test data shape: \" + format(test.shape))"
   ]
  },
  {
   "cell_type": "code",
   "execution_count": 8,
   "metadata": {
    "scrolled": true
   },
   "outputs": [
    {
     "data": {
      "text/plain": [
       "{'activity_category': 7,\n",
       " 'activity_id': 2197291,\n",
       " 'char_10': 2,\n",
       " 'char_11': 2,\n",
       " 'char_12': 2,\n",
       " 'char_13': 2,\n",
       " 'char_14': 2,\n",
       " 'char_15': 2,\n",
       " 'char_16': 2,\n",
       " 'char_17': 2,\n",
       " 'char_18': 2,\n",
       " 'char_19': 2,\n",
       " 'char_1_x': 52,\n",
       " 'char_1_y': 2,\n",
       " 'char_20': 2,\n",
       " 'char_21': 2,\n",
       " 'char_22': 2,\n",
       " 'char_23': 2,\n",
       " 'char_24': 2,\n",
       " 'char_25': 2,\n",
       " 'char_26': 2,\n",
       " 'char_27': 2,\n",
       " 'char_28': 2,\n",
       " 'char_29': 2,\n",
       " 'char_2_x': 33,\n",
       " 'char_2_y': 3,\n",
       " 'char_30': 2,\n",
       " 'char_31': 2,\n",
       " 'char_32': 2,\n",
       " 'char_33': 2,\n",
       " 'char_34': 2,\n",
       " 'char_35': 2,\n",
       " 'char_36': 2,\n",
       " 'char_37': 2,\n",
       " 'char_38': 101,\n",
       " 'char_3_x': 12,\n",
       " 'char_3_y': 43,\n",
       " 'char_4_x': 8,\n",
       " 'char_4_y': 25,\n",
       " 'char_5_x': 8,\n",
       " 'char_5_y': 9,\n",
       " 'char_6_x': 6,\n",
       " 'char_6_y': 7,\n",
       " 'char_7_x': 9,\n",
       " 'char_7_y': 25,\n",
       " 'char_8_x': 19,\n",
       " 'char_8_y': 8,\n",
       " 'char_9_x': 20,\n",
       " 'char_9_y': 9,\n",
       " 'day_x': 31,\n",
       " 'day_y': 31,\n",
       " 'group_1': 29899,\n",
       " 'isweekend_x': 2,\n",
       " 'isweekend_y': 2,\n",
       " 'month_x': 12,\n",
       " 'month_y': 12,\n",
       " 'outcome': 2,\n",
       " 'people_id': 151295,\n",
       " 'year_x': 2,\n",
       " 'year_y': 4}"
      ]
     },
     "execution_count": 8,
     "metadata": {},
     "output_type": "execute_result"
    }
   ],
   "source": [
    "{col:train[col].nunique() for col in train.columns}"
   ]
  },
  {
   "cell_type": "markdown",
   "metadata": {},
   "source": [
    "------------------------------------------------------------"
   ]
  },
  {
   "cell_type": "markdown",
   "metadata": {},
   "source": [
    "Explore 'people_id' and 'group_1'"
   ]
  },
  {
   "cell_type": "code",
   "execution_count": 8,
   "metadata": {},
   "outputs": [
    {
     "data": {
      "text/plain": [
       "151295"
      ]
     },
     "execution_count": 8,
     "metadata": {},
     "output_type": "execute_result"
    }
   ],
   "source": [
    "train['people_id'].nunique()"
   ]
  },
  {
   "cell_type": "code",
   "execution_count": 7,
   "metadata": {
    "scrolled": true
   },
   "outputs": [
    {
     "data": {
      "text/html": [
       "<div>\n",
       "<table border=\"1\" class=\"dataframe\">\n",
       "  <thead>\n",
       "    <tr style=\"text-align: right;\">\n",
       "      <th></th>\n",
       "      <th>count</th>\n",
       "      <th>outcome_mean</th>\n",
       "    </tr>\n",
       "  </thead>\n",
       "  <tbody>\n",
       "    <tr>\n",
       "      <th>ppl_294918</th>\n",
       "      <td>55103</td>\n",
       "      <td>0.000000</td>\n",
       "    </tr>\n",
       "    <tr>\n",
       "      <th>ppl_370270</th>\n",
       "      <td>53668</td>\n",
       "      <td>0.000224</td>\n",
       "    </tr>\n",
       "    <tr>\n",
       "      <th>ppl_105739</th>\n",
       "      <td>45936</td>\n",
       "      <td>0.000000</td>\n",
       "    </tr>\n",
       "    <tr>\n",
       "      <th>ppl_54699</th>\n",
       "      <td>23969</td>\n",
       "      <td>0.000000</td>\n",
       "    </tr>\n",
       "    <tr>\n",
       "      <th>ppl_64887</th>\n",
       "      <td>7052</td>\n",
       "      <td>0.999858</td>\n",
       "    </tr>\n",
       "    <tr>\n",
       "      <th>ppl_250020</th>\n",
       "      <td>4293</td>\n",
       "      <td>0.000000</td>\n",
       "    </tr>\n",
       "    <tr>\n",
       "      <th>ppl_351668</th>\n",
       "      <td>3144</td>\n",
       "      <td>0.000000</td>\n",
       "    </tr>\n",
       "    <tr>\n",
       "      <th>ppl_36839</th>\n",
       "      <td>3059</td>\n",
       "      <td>0.000000</td>\n",
       "    </tr>\n",
       "    <tr>\n",
       "      <th>ppl_372923</th>\n",
       "      <td>2365</td>\n",
       "      <td>0.000000</td>\n",
       "    </tr>\n",
       "    <tr>\n",
       "      <th>ppl_265578</th>\n",
       "      <td>1539</td>\n",
       "      <td>0.000000</td>\n",
       "    </tr>\n",
       "    <tr>\n",
       "      <th>ppl_97427</th>\n",
       "      <td>1487</td>\n",
       "      <td>1.000000</td>\n",
       "    </tr>\n",
       "    <tr>\n",
       "      <th>ppl_255923</th>\n",
       "      <td>1429</td>\n",
       "      <td>0.000000</td>\n",
       "    </tr>\n",
       "    <tr>\n",
       "      <th>ppl_245408</th>\n",
       "      <td>991</td>\n",
       "      <td>0.000000</td>\n",
       "    </tr>\n",
       "    <tr>\n",
       "      <th>ppl_363184</th>\n",
       "      <td>825</td>\n",
       "      <td>0.000000</td>\n",
       "    </tr>\n",
       "    <tr>\n",
       "      <th>ppl_258085</th>\n",
       "      <td>742</td>\n",
       "      <td>0.000000</td>\n",
       "    </tr>\n",
       "    <tr>\n",
       "      <th>ppl_60206</th>\n",
       "      <td>736</td>\n",
       "      <td>1.000000</td>\n",
       "    </tr>\n",
       "    <tr>\n",
       "      <th>ppl_9442</th>\n",
       "      <td>730</td>\n",
       "      <td>1.000000</td>\n",
       "    </tr>\n",
       "    <tr>\n",
       "      <th>ppl_137451</th>\n",
       "      <td>711</td>\n",
       "      <td>0.000000</td>\n",
       "    </tr>\n",
       "    <tr>\n",
       "      <th>ppl_60486</th>\n",
       "      <td>664</td>\n",
       "      <td>0.000000</td>\n",
       "    </tr>\n",
       "    <tr>\n",
       "      <th>ppl_3270</th>\n",
       "      <td>649</td>\n",
       "      <td>0.000000</td>\n",
       "    </tr>\n",
       "    <tr>\n",
       "      <th>ppl_380820</th>\n",
       "      <td>646</td>\n",
       "      <td>0.000000</td>\n",
       "    </tr>\n",
       "    <tr>\n",
       "      <th>ppl_267205</th>\n",
       "      <td>584</td>\n",
       "      <td>0.030822</td>\n",
       "    </tr>\n",
       "    <tr>\n",
       "      <th>ppl_359707</th>\n",
       "      <td>556</td>\n",
       "      <td>1.000000</td>\n",
       "    </tr>\n",
       "    <tr>\n",
       "      <th>ppl_366313</th>\n",
       "      <td>555</td>\n",
       "      <td>1.000000</td>\n",
       "    </tr>\n",
       "    <tr>\n",
       "      <th>ppl_333492</th>\n",
       "      <td>542</td>\n",
       "      <td>0.808118</td>\n",
       "    </tr>\n",
       "    <tr>\n",
       "      <th>ppl_363605</th>\n",
       "      <td>533</td>\n",
       "      <td>0.000000</td>\n",
       "    </tr>\n",
       "    <tr>\n",
       "      <th>ppl_102941</th>\n",
       "      <td>524</td>\n",
       "      <td>1.000000</td>\n",
       "    </tr>\n",
       "    <tr>\n",
       "      <th>ppl_7497</th>\n",
       "      <td>521</td>\n",
       "      <td>0.009597</td>\n",
       "    </tr>\n",
       "    <tr>\n",
       "      <th>ppl_159670</th>\n",
       "      <td>513</td>\n",
       "      <td>0.000000</td>\n",
       "    </tr>\n",
       "    <tr>\n",
       "      <th>ppl_307791</th>\n",
       "      <td>509</td>\n",
       "      <td>0.850688</td>\n",
       "    </tr>\n",
       "    <tr>\n",
       "      <th>...</th>\n",
       "      <td>...</td>\n",
       "      <td>...</td>\n",
       "    </tr>\n",
       "    <tr>\n",
       "      <th>ppl_3614</th>\n",
       "      <td>1</td>\n",
       "      <td>0.000000</td>\n",
       "    </tr>\n",
       "    <tr>\n",
       "      <th>ppl_361403</th>\n",
       "      <td>1</td>\n",
       "      <td>0.000000</td>\n",
       "    </tr>\n",
       "    <tr>\n",
       "      <th>ppl_361404</th>\n",
       "      <td>1</td>\n",
       "      <td>0.000000</td>\n",
       "    </tr>\n",
       "    <tr>\n",
       "      <th>ppl_361415</th>\n",
       "      <td>1</td>\n",
       "      <td>0.000000</td>\n",
       "    </tr>\n",
       "    <tr>\n",
       "      <th>ppl_361418</th>\n",
       "      <td>1</td>\n",
       "      <td>1.000000</td>\n",
       "    </tr>\n",
       "    <tr>\n",
       "      <th>ppl_361425</th>\n",
       "      <td>1</td>\n",
       "      <td>1.000000</td>\n",
       "    </tr>\n",
       "    <tr>\n",
       "      <th>ppl_361427</th>\n",
       "      <td>1</td>\n",
       "      <td>1.000000</td>\n",
       "    </tr>\n",
       "    <tr>\n",
       "      <th>ppl_361445</th>\n",
       "      <td>1</td>\n",
       "      <td>1.000000</td>\n",
       "    </tr>\n",
       "    <tr>\n",
       "      <th>ppl_361446</th>\n",
       "      <td>1</td>\n",
       "      <td>0.000000</td>\n",
       "    </tr>\n",
       "    <tr>\n",
       "      <th>ppl_361467</th>\n",
       "      <td>1</td>\n",
       "      <td>1.000000</td>\n",
       "    </tr>\n",
       "    <tr>\n",
       "      <th>ppl_361481</th>\n",
       "      <td>1</td>\n",
       "      <td>1.000000</td>\n",
       "    </tr>\n",
       "    <tr>\n",
       "      <th>ppl_36138</th>\n",
       "      <td>1</td>\n",
       "      <td>1.000000</td>\n",
       "    </tr>\n",
       "    <tr>\n",
       "      <th>ppl_17664</th>\n",
       "      <td>1</td>\n",
       "      <td>0.000000</td>\n",
       "    </tr>\n",
       "    <tr>\n",
       "      <th>ppl_176650</th>\n",
       "      <td>1</td>\n",
       "      <td>0.000000</td>\n",
       "    </tr>\n",
       "    <tr>\n",
       "      <th>ppl_361257</th>\n",
       "      <td>1</td>\n",
       "      <td>0.000000</td>\n",
       "    </tr>\n",
       "    <tr>\n",
       "      <th>ppl_176807</th>\n",
       "      <td>1</td>\n",
       "      <td>0.000000</td>\n",
       "    </tr>\n",
       "    <tr>\n",
       "      <th>ppl_176794</th>\n",
       "      <td>1</td>\n",
       "      <td>0.000000</td>\n",
       "    </tr>\n",
       "    <tr>\n",
       "      <th>ppl_361219</th>\n",
       "      <td>1</td>\n",
       "      <td>0.000000</td>\n",
       "    </tr>\n",
       "    <tr>\n",
       "      <th>ppl_176778</th>\n",
       "      <td>1</td>\n",
       "      <td>0.000000</td>\n",
       "    </tr>\n",
       "    <tr>\n",
       "      <th>ppl_361225</th>\n",
       "      <td>1</td>\n",
       "      <td>1.000000</td>\n",
       "    </tr>\n",
       "    <tr>\n",
       "      <th>ppl_361250</th>\n",
       "      <td>1</td>\n",
       "      <td>0.000000</td>\n",
       "    </tr>\n",
       "    <tr>\n",
       "      <th>ppl_176717</th>\n",
       "      <td>1</td>\n",
       "      <td>1.000000</td>\n",
       "    </tr>\n",
       "    <tr>\n",
       "      <th>ppl_361348</th>\n",
       "      <td>1</td>\n",
       "      <td>0.000000</td>\n",
       "    </tr>\n",
       "    <tr>\n",
       "      <th>ppl_176716</th>\n",
       "      <td>1</td>\n",
       "      <td>0.000000</td>\n",
       "    </tr>\n",
       "    <tr>\n",
       "      <th>ppl_361295</th>\n",
       "      <td>1</td>\n",
       "      <td>1.000000</td>\n",
       "    </tr>\n",
       "    <tr>\n",
       "      <th>ppl_176705</th>\n",
       "      <td>1</td>\n",
       "      <td>0.000000</td>\n",
       "    </tr>\n",
       "    <tr>\n",
       "      <th>ppl_361314</th>\n",
       "      <td>1</td>\n",
       "      <td>0.000000</td>\n",
       "    </tr>\n",
       "    <tr>\n",
       "      <th>ppl_361328</th>\n",
       "      <td>1</td>\n",
       "      <td>1.000000</td>\n",
       "    </tr>\n",
       "    <tr>\n",
       "      <th>ppl_361332</th>\n",
       "      <td>1</td>\n",
       "      <td>0.000000</td>\n",
       "    </tr>\n",
       "    <tr>\n",
       "      <th>ppl_279089</th>\n",
       "      <td>1</td>\n",
       "      <td>0.000000</td>\n",
       "    </tr>\n",
       "  </tbody>\n",
       "</table>\n",
       "<p>151295 rows × 2 columns</p>\n",
       "</div>"
      ],
      "text/plain": [
       "            count  outcome_mean\n",
       "ppl_294918  55103      0.000000\n",
       "ppl_370270  53668      0.000224\n",
       "ppl_105739  45936      0.000000\n",
       "ppl_54699   23969      0.000000\n",
       "ppl_64887    7052      0.999858\n",
       "ppl_250020   4293      0.000000\n",
       "ppl_351668   3144      0.000000\n",
       "ppl_36839    3059      0.000000\n",
       "ppl_372923   2365      0.000000\n",
       "ppl_265578   1539      0.000000\n",
       "ppl_97427    1487      1.000000\n",
       "ppl_255923   1429      0.000000\n",
       "ppl_245408    991      0.000000\n",
       "ppl_363184    825      0.000000\n",
       "ppl_258085    742      0.000000\n",
       "ppl_60206     736      1.000000\n",
       "ppl_9442      730      1.000000\n",
       "ppl_137451    711      0.000000\n",
       "ppl_60486     664      0.000000\n",
       "ppl_3270      649      0.000000\n",
       "ppl_380820    646      0.000000\n",
       "ppl_267205    584      0.030822\n",
       "ppl_359707    556      1.000000\n",
       "ppl_366313    555      1.000000\n",
       "ppl_333492    542      0.808118\n",
       "ppl_363605    533      0.000000\n",
       "ppl_102941    524      1.000000\n",
       "ppl_7497      521      0.009597\n",
       "ppl_159670    513      0.000000\n",
       "ppl_307791    509      0.850688\n",
       "...           ...           ...\n",
       "ppl_3614        1      0.000000\n",
       "ppl_361403      1      0.000000\n",
       "ppl_361404      1      0.000000\n",
       "ppl_361415      1      0.000000\n",
       "ppl_361418      1      1.000000\n",
       "ppl_361425      1      1.000000\n",
       "ppl_361427      1      1.000000\n",
       "ppl_361445      1      1.000000\n",
       "ppl_361446      1      0.000000\n",
       "ppl_361467      1      1.000000\n",
       "ppl_361481      1      1.000000\n",
       "ppl_36138       1      1.000000\n",
       "ppl_17664       1      0.000000\n",
       "ppl_176650      1      0.000000\n",
       "ppl_361257      1      0.000000\n",
       "ppl_176807      1      0.000000\n",
       "ppl_176794      1      0.000000\n",
       "ppl_361219      1      0.000000\n",
       "ppl_176778      1      0.000000\n",
       "ppl_361225      1      1.000000\n",
       "ppl_361250      1      0.000000\n",
       "ppl_176717      1      1.000000\n",
       "ppl_361348      1      0.000000\n",
       "ppl_176716      1      0.000000\n",
       "ppl_361295      1      1.000000\n",
       "ppl_176705      1      0.000000\n",
       "ppl_361314      1      0.000000\n",
       "ppl_361328      1      1.000000\n",
       "ppl_361332      1      0.000000\n",
       "ppl_279089      1      0.000000\n",
       "\n",
       "[151295 rows x 2 columns]"
      ]
     },
     "execution_count": 7,
     "metadata": {},
     "output_type": "execute_result"
    }
   ],
   "source": [
    "people_count = train.groupby('people_id')['outcome'].count().sort_values(ascending=False)\n",
    "people_count.name = 'count'\n",
    "people_mean = train.groupby('people_id')['outcome'].mean()\n",
    "people_mean.name = 'outcome_mean'\n",
    "people_attr = pd.concat([people_count, people_mean], axis=1)\n",
    "people_attr.sort_values('count', axis=0, ascending=False, inplace=True)\n",
    "people_attr"
   ]
  },
  {
   "cell_type": "code",
   "execution_count": 8,
   "metadata": {},
   "outputs": [
    {
     "data": {
      "text/plain": [
       "37823"
      ]
     },
     "execution_count": 8,
     "metadata": {},
     "output_type": "execute_result"
    }
   ],
   "source": [
    "test['people_id'].nunique()"
   ]
  },
  {
   "cell_type": "code",
   "execution_count": 11,
   "metadata": {
    "scrolled": true
   },
   "outputs": [
    {
     "data": {
      "text/plain": [
       "people_id\n",
       "ppl_137922    868\n",
       "ppl_60553     532\n",
       "ppl_306851    490\n",
       "ppl_162444    482\n",
       "ppl_299382    477\n",
       "ppl_241764    416\n",
       "ppl_215180    388\n",
       "ppl_21749     387\n",
       "ppl_96319     383\n",
       "ppl_25870     375\n",
       "ppl_50312     372\n",
       "ppl_170054    371\n",
       "ppl_73780     367\n",
       "ppl_308274    361\n",
       "ppl_173480    345\n",
       "ppl_27897     339\n",
       "ppl_31903     333\n",
       "ppl_348071    333\n",
       "ppl_351655    333\n",
       "ppl_261554    329\n",
       "ppl_139851    322\n",
       "ppl_161560    321\n",
       "ppl_359319    318\n",
       "ppl_118951    316\n",
       "ppl_337695    298\n",
       "ppl_113743    297\n",
       "ppl_369229    296\n",
       "ppl_211414    292\n",
       "ppl_308743    290\n",
       "ppl_351749    288\n",
       "             ... \n",
       "ppl_30373       1\n",
       "ppl_303830      1\n",
       "ppl_153547      1\n",
       "ppl_153508      1\n",
       "ppl_1535        1\n",
       "ppl_30395       1\n",
       "ppl_153478      1\n",
       "ppl_304085      1\n",
       "ppl_153459      1\n",
       "ppl_304088      1\n",
       "ppl_304272      1\n",
       "ppl_153411      1\n",
       "ppl_304416      1\n",
       "ppl_304446      1\n",
       "ppl_153148      1\n",
       "ppl_304634      1\n",
       "ppl_153099      1\n",
       "ppl_304704      1\n",
       "ppl_304775      1\n",
       "ppl_153078      1\n",
       "ppl_304882      1\n",
       "ppl_3050        1\n",
       "ppl_305041      1\n",
       "ppl_152876      1\n",
       "ppl_305372      1\n",
       "ppl_305537      1\n",
       "ppl_305543      1\n",
       "ppl_305657      1\n",
       "ppl_305690      1\n",
       "ppl_278847      1\n",
       "Name: people_id, dtype: int64"
      ]
     },
     "execution_count": 11,
     "metadata": {},
     "output_type": "execute_result"
    }
   ],
   "source": [
    "test.groupby('people_id')['people_id'].count().sort_values(ascending=False)"
   ]
  },
  {
   "cell_type": "code",
   "execution_count": 12,
   "metadata": {
    "scrolled": true
   },
   "outputs": [
    {
     "data": {
      "text/html": [
       "<div>\n",
       "<table border=\"1\" class=\"dataframe\">\n",
       "  <thead>\n",
       "    <tr style=\"text-align: right;\">\n",
       "      <th></th>\n",
       "      <th>count</th>\n",
       "      <th>outcome_mean</th>\n",
       "    </tr>\n",
       "    <tr>\n",
       "      <th>group_1</th>\n",
       "      <th></th>\n",
       "      <th></th>\n",
       "    </tr>\n",
       "  </thead>\n",
       "  <tbody>\n",
       "    <tr>\n",
       "      <th>17304</th>\n",
       "      <td>799125</td>\n",
       "      <td>0.000000</td>\n",
       "    </tr>\n",
       "    <tr>\n",
       "      <th>27940</th>\n",
       "      <td>53668</td>\n",
       "      <td>0.000224</td>\n",
       "    </tr>\n",
       "    <tr>\n",
       "      <th>667</th>\n",
       "      <td>15865</td>\n",
       "      <td>1.000000</td>\n",
       "    </tr>\n",
       "    <tr>\n",
       "      <th>8386</th>\n",
       "      <td>7929</td>\n",
       "      <td>1.000000</td>\n",
       "    </tr>\n",
       "    <tr>\n",
       "      <th>20472</th>\n",
       "      <td>7053</td>\n",
       "      <td>0.999858</td>\n",
       "    </tr>\n",
       "    <tr>\n",
       "      <th>9280</th>\n",
       "      <td>5492</td>\n",
       "      <td>1.000000</td>\n",
       "    </tr>\n",
       "    <tr>\n",
       "      <th>17899</th>\n",
       "      <td>4767</td>\n",
       "      <td>1.000000</td>\n",
       "    </tr>\n",
       "    <tr>\n",
       "      <th>450</th>\n",
       "      <td>3867</td>\n",
       "      <td>1.000000</td>\n",
       "    </tr>\n",
       "    <tr>\n",
       "      <th>7256</th>\n",
       "      <td>3759</td>\n",
       "      <td>1.000000</td>\n",
       "    </tr>\n",
       "    <tr>\n",
       "      <th>1482</th>\n",
       "      <td>3272</td>\n",
       "      <td>0.991137</td>\n",
       "    </tr>\n",
       "    <tr>\n",
       "      <th>9702</th>\n",
       "      <td>3094</td>\n",
       "      <td>0.526503</td>\n",
       "    </tr>\n",
       "    <tr>\n",
       "      <th>1270</th>\n",
       "      <td>3007</td>\n",
       "      <td>1.000000</td>\n",
       "    </tr>\n",
       "    <tr>\n",
       "      <th>3598</th>\n",
       "      <td>2968</td>\n",
       "      <td>1.000000</td>\n",
       "    </tr>\n",
       "    <tr>\n",
       "      <th>142</th>\n",
       "      <td>2967</td>\n",
       "      <td>1.000000</td>\n",
       "    </tr>\n",
       "    <tr>\n",
       "      <th>15723</th>\n",
       "      <td>2874</td>\n",
       "      <td>1.000000</td>\n",
       "    </tr>\n",
       "    <tr>\n",
       "      <th>19048</th>\n",
       "      <td>2631</td>\n",
       "      <td>1.000000</td>\n",
       "    </tr>\n",
       "    <tr>\n",
       "      <th>3229</th>\n",
       "      <td>2597</td>\n",
       "      <td>1.000000</td>\n",
       "    </tr>\n",
       "    <tr>\n",
       "      <th>11143</th>\n",
       "      <td>2586</td>\n",
       "      <td>1.000000</td>\n",
       "    </tr>\n",
       "    <tr>\n",
       "      <th>7124</th>\n",
       "      <td>2574</td>\n",
       "      <td>1.000000</td>\n",
       "    </tr>\n",
       "    <tr>\n",
       "      <th>12079</th>\n",
       "      <td>2538</td>\n",
       "      <td>1.000000</td>\n",
       "    </tr>\n",
       "    <tr>\n",
       "      <th>5393</th>\n",
       "      <td>2447</td>\n",
       "      <td>1.000000</td>\n",
       "    </tr>\n",
       "    <tr>\n",
       "      <th>1816</th>\n",
       "      <td>2401</td>\n",
       "      <td>1.000000</td>\n",
       "    </tr>\n",
       "    <tr>\n",
       "      <th>1490</th>\n",
       "      <td>2355</td>\n",
       "      <td>1.000000</td>\n",
       "    </tr>\n",
       "    <tr>\n",
       "      <th>5149</th>\n",
       "      <td>2263</td>\n",
       "      <td>0.733981</td>\n",
       "    </tr>\n",
       "    <tr>\n",
       "      <th>17544</th>\n",
       "      <td>2177</td>\n",
       "      <td>1.000000</td>\n",
       "    </tr>\n",
       "    <tr>\n",
       "      <th>418</th>\n",
       "      <td>2166</td>\n",
       "      <td>1.000000</td>\n",
       "    </tr>\n",
       "    <tr>\n",
       "      <th>88</th>\n",
       "      <td>2096</td>\n",
       "      <td>1.000000</td>\n",
       "    </tr>\n",
       "    <tr>\n",
       "      <th>3250</th>\n",
       "      <td>1917</td>\n",
       "      <td>1.000000</td>\n",
       "    </tr>\n",
       "    <tr>\n",
       "      <th>11659</th>\n",
       "      <td>1892</td>\n",
       "      <td>1.000000</td>\n",
       "    </tr>\n",
       "    <tr>\n",
       "      <th>3461</th>\n",
       "      <td>1770</td>\n",
       "      <td>1.000000</td>\n",
       "    </tr>\n",
       "    <tr>\n",
       "      <th>...</th>\n",
       "      <td>...</td>\n",
       "      <td>...</td>\n",
       "    </tr>\n",
       "    <tr>\n",
       "      <th>35523</th>\n",
       "      <td>1</td>\n",
       "      <td>0.000000</td>\n",
       "    </tr>\n",
       "    <tr>\n",
       "      <th>35513</th>\n",
       "      <td>1</td>\n",
       "      <td>1.000000</td>\n",
       "    </tr>\n",
       "    <tr>\n",
       "      <th>35509</th>\n",
       "      <td>1</td>\n",
       "      <td>0.000000</td>\n",
       "    </tr>\n",
       "    <tr>\n",
       "      <th>35469</th>\n",
       "      <td>1</td>\n",
       "      <td>0.000000</td>\n",
       "    </tr>\n",
       "    <tr>\n",
       "      <th>35589</th>\n",
       "      <td>1</td>\n",
       "      <td>1.000000</td>\n",
       "    </tr>\n",
       "    <tr>\n",
       "      <th>35454</th>\n",
       "      <td>1</td>\n",
       "      <td>0.000000</td>\n",
       "    </tr>\n",
       "    <tr>\n",
       "      <th>35453</th>\n",
       "      <td>1</td>\n",
       "      <td>1.000000</td>\n",
       "    </tr>\n",
       "    <tr>\n",
       "      <th>35446</th>\n",
       "      <td>1</td>\n",
       "      <td>1.000000</td>\n",
       "    </tr>\n",
       "    <tr>\n",
       "      <th>35424</th>\n",
       "      <td>1</td>\n",
       "      <td>1.000000</td>\n",
       "    </tr>\n",
       "    <tr>\n",
       "      <th>35421</th>\n",
       "      <td>1</td>\n",
       "      <td>1.000000</td>\n",
       "    </tr>\n",
       "    <tr>\n",
       "      <th>35415</th>\n",
       "      <td>1</td>\n",
       "      <td>1.000000</td>\n",
       "    </tr>\n",
       "    <tr>\n",
       "      <th>35588</th>\n",
       "      <td>1</td>\n",
       "      <td>0.000000</td>\n",
       "    </tr>\n",
       "    <tr>\n",
       "      <th>35594</th>\n",
       "      <td>1</td>\n",
       "      <td>0.000000</td>\n",
       "    </tr>\n",
       "    <tr>\n",
       "      <th>35983</th>\n",
       "      <td>1</td>\n",
       "      <td>1.000000</td>\n",
       "    </tr>\n",
       "    <tr>\n",
       "      <th>35668</th>\n",
       "      <td>1</td>\n",
       "      <td>0.000000</td>\n",
       "    </tr>\n",
       "    <tr>\n",
       "      <th>35966</th>\n",
       "      <td>1</td>\n",
       "      <td>0.000000</td>\n",
       "    </tr>\n",
       "    <tr>\n",
       "      <th>35929</th>\n",
       "      <td>1</td>\n",
       "      <td>0.000000</td>\n",
       "    </tr>\n",
       "    <tr>\n",
       "      <th>35859</th>\n",
       "      <td>1</td>\n",
       "      <td>0.000000</td>\n",
       "    </tr>\n",
       "    <tr>\n",
       "      <th>35853</th>\n",
       "      <td>1</td>\n",
       "      <td>1.000000</td>\n",
       "    </tr>\n",
       "    <tr>\n",
       "      <th>35768</th>\n",
       "      <td>1</td>\n",
       "      <td>0.000000</td>\n",
       "    </tr>\n",
       "    <tr>\n",
       "      <th>35734</th>\n",
       "      <td>1</td>\n",
       "      <td>1.000000</td>\n",
       "    </tr>\n",
       "    <tr>\n",
       "      <th>35666</th>\n",
       "      <td>1</td>\n",
       "      <td>1.000000</td>\n",
       "    </tr>\n",
       "    <tr>\n",
       "      <th>35597</th>\n",
       "      <td>1</td>\n",
       "      <td>0.000000</td>\n",
       "    </tr>\n",
       "    <tr>\n",
       "      <th>35663</th>\n",
       "      <td>1</td>\n",
       "      <td>1.000000</td>\n",
       "    </tr>\n",
       "    <tr>\n",
       "      <th>35662</th>\n",
       "      <td>1</td>\n",
       "      <td>0.000000</td>\n",
       "    </tr>\n",
       "    <tr>\n",
       "      <th>35636</th>\n",
       "      <td>1</td>\n",
       "      <td>0.000000</td>\n",
       "    </tr>\n",
       "    <tr>\n",
       "      <th>35634</th>\n",
       "      <td>1</td>\n",
       "      <td>0.000000</td>\n",
       "    </tr>\n",
       "    <tr>\n",
       "      <th>35602</th>\n",
       "      <td>1</td>\n",
       "      <td>1.000000</td>\n",
       "    </tr>\n",
       "    <tr>\n",
       "      <th>35599</th>\n",
       "      <td>1</td>\n",
       "      <td>0.000000</td>\n",
       "    </tr>\n",
       "    <tr>\n",
       "      <th>51462</th>\n",
       "      <td>1</td>\n",
       "      <td>1.000000</td>\n",
       "    </tr>\n",
       "  </tbody>\n",
       "</table>\n",
       "<p>29899 rows × 2 columns</p>\n",
       "</div>"
      ],
      "text/plain": [
       "          count  outcome_mean\n",
       "group_1                      \n",
       "17304    799125      0.000000\n",
       "27940     53668      0.000224\n",
       "667       15865      1.000000\n",
       "8386       7929      1.000000\n",
       "20472      7053      0.999858\n",
       "9280       5492      1.000000\n",
       "17899      4767      1.000000\n",
       "450        3867      1.000000\n",
       "7256       3759      1.000000\n",
       "1482       3272      0.991137\n",
       "9702       3094      0.526503\n",
       "1270       3007      1.000000\n",
       "3598       2968      1.000000\n",
       "142        2967      1.000000\n",
       "15723      2874      1.000000\n",
       "19048      2631      1.000000\n",
       "3229       2597      1.000000\n",
       "11143      2586      1.000000\n",
       "7124       2574      1.000000\n",
       "12079      2538      1.000000\n",
       "5393       2447      1.000000\n",
       "1816       2401      1.000000\n",
       "1490       2355      1.000000\n",
       "5149       2263      0.733981\n",
       "17544      2177      1.000000\n",
       "418        2166      1.000000\n",
       "88         2096      1.000000\n",
       "3250       1917      1.000000\n",
       "11659      1892      1.000000\n",
       "3461       1770      1.000000\n",
       "...         ...           ...\n",
       "35523         1      0.000000\n",
       "35513         1      1.000000\n",
       "35509         1      0.000000\n",
       "35469         1      0.000000\n",
       "35589         1      1.000000\n",
       "35454         1      0.000000\n",
       "35453         1      1.000000\n",
       "35446         1      1.000000\n",
       "35424         1      1.000000\n",
       "35421         1      1.000000\n",
       "35415         1      1.000000\n",
       "35588         1      0.000000\n",
       "35594         1      0.000000\n",
       "35983         1      1.000000\n",
       "35668         1      0.000000\n",
       "35966         1      0.000000\n",
       "35929         1      0.000000\n",
       "35859         1      0.000000\n",
       "35853         1      1.000000\n",
       "35768         1      0.000000\n",
       "35734         1      1.000000\n",
       "35666         1      1.000000\n",
       "35597         1      0.000000\n",
       "35663         1      1.000000\n",
       "35662         1      0.000000\n",
       "35636         1      0.000000\n",
       "35634         1      0.000000\n",
       "35602         1      1.000000\n",
       "35599         1      0.000000\n",
       "51462         1      1.000000\n",
       "\n",
       "[29899 rows x 2 columns]"
      ]
     },
     "execution_count": 12,
     "metadata": {},
     "output_type": "execute_result"
    }
   ],
   "source": [
    "group_count = train.groupby('group_1')['outcome'].count()\n",
    "group_count.name = 'count'\n",
    "group_mean = train.groupby('group_1')['outcome'].mean()\n",
    "group_mean.name = 'outcome_mean'\n",
    "group_attr = pd.concat([group_count, group_mean], axis=1)\n",
    "group_attr.sort_values('count', axis=0, ascending=False, inplace=True)\n",
    "group_attr"
   ]
  },
  {
   "cell_type": "markdown",
   "metadata": {},
   "source": [
    "------------------------------------------------------------"
   ]
  },
  {
   "cell_type": "markdown",
   "metadata": {},
   "source": [
    "#### reduce the dimension of each categorical features"
   ]
  },
  {
   "cell_type": "code",
   "execution_count": 9,
   "metadata": {},
   "outputs": [
    {
     "name": "stdout",
     "output_type": "stream",
     "text": [
      "Elapsed time 43.66 seconds for cleaning categorical features.\n",
      "Train data shape: (2197291, 60)\n",
      "Test data shape: (498687, 60)\n"
     ]
    }
   ],
   "source": [
    "whole = pd.concat([train, test], ignore_index=True)\n",
    "categorical = ['group_1', 'activity_category', 'char_1_x', 'char_2_x', 'char_3_x', 'char_4_x', 'char_5_x', \n",
    "               'char_6_x', 'char_7_x', 'char_8_x', 'char_9_x', 'char_2_y', 'char_3_y', 'char_4_y', 'char_5_y',\n",
    "               'char_6_y', 'char_7_y', 'char_8_y', 'char_9_y']\n",
    "t0 = time()\n",
    "for category in categorical:\n",
    "    whole = reduce_dim(whole, category)\n",
    "print \"Elapsed time %.2f seconds for cleaning categorical features.\" %(time()-t0)\n",
    "\n",
    "X = whole[:(len(train))]\n",
    "X_test = whole[len(train):len(train)+len(test)]\n",
    "\n",
    "print(\"Train data shape: \" + format(X.shape))\n",
    "print(\"Test data shape: \" + format(X_test.shape))\n",
    "del train, test, whole"
   ]
  },
  {
   "cell_type": "code",
   "execution_count": 10,
   "metadata": {},
   "outputs": [
    {
     "data": {
      "text/plain": [
       "0.44395439657287089"
      ]
     },
     "execution_count": 10,
     "metadata": {},
     "output_type": "execute_result"
    }
   ],
   "source": [
    "X_test = X_test.drop('outcome', axis=1)\n",
    "X['outcome'].mean()"
   ]
  },
  {
   "cell_type": "markdown",
   "metadata": {},
   "source": [
    "#### train/validation data split"
   ]
  },
  {
   "cell_type": "code",
   "execution_count": 61,
   "metadata": {
    "scrolled": true
   },
   "outputs": [
    {
     "name": "stdout",
     "output_type": "stream",
     "text": [
      "collecting set 1...\n",
      "collecting set 2...\n",
      "collecting set 3...\n",
      "collecting set 4...\n",
      "collecting set 5...\n",
      "collecting set 6...\n",
      "CPU times: user 11.4 s, sys: 494 ms, total: 11.9 s\n",
      "Wall time: 12 s\n"
     ]
    }
   ],
   "source": [
    "%%time\n",
    "# cross validation split by people_id\n",
    "nb_folds = 6\n",
    "sample_per_fold = X.shape[0] // nb_folds\n",
    "# stratified split for cv\n",
    "np.random.seed(99)\n",
    "val_ppls = []\n",
    "ppls = X['people_id'].unique()\n",
    "for i in range(nb_folds-1):\n",
    "    # create valid set people_id\n",
    "    print(\"collecting set %d...\" %(i+1))\n",
    "    val_people_id2num = {}\n",
    "    nb_val = 0\n",
    "    index_to_select = people_attr.loc[ppls][people_attr.loc[ppls]['outcome_mean']>=0.5].index\n",
    "    while nb_val < sample_per_fold*0.44:\n",
    "        p_id = np.random.choice(index_to_select,1)[0]\n",
    "        if p_id not in val_people_id2num:\n",
    "            val_people_id2num[p_id] = people_count[p_id]\n",
    "            nb_val += val_people_id2num[p_id]\n",
    "    index_to_select = people_attr.loc[ppls][people_attr.loc[ppls]['outcome_mean']<0.5].index\n",
    "    while nb_val < sample_per_fold:\n",
    "        p_id = np.random.choice(index_to_select,1)[0]\n",
    "        if p_id not in val_people_id2num:\n",
    "            val_people_id2num[p_id] = people_count[p_id]\n",
    "            nb_val += val_people_id2num[p_id]\n",
    "    val_ppls.append(val_people_id2num.keys())\n",
    "    ppls = np.array(list(set(ppls) - set(val_ppls[i])))\n",
    "\n",
    "print(\"collecting set {}...\".format(nb_folds))\n",
    "val_ppls.append(ppls)\n",
    "\n",
    "oof_index = np.where(X['people_id'].isin(val_ppls[0]))[0]\n",
    "train_indices = []\n",
    "valid_indices = []\n",
    "for i in range(1,nb_folds):\n",
    "    valid_indices.append(np.where(X['people_id'].isin(val_ppls[i]))[0])\n",
    "    tr_idx = np.array([])\n",
    "    for j in set(range(1,nb_folds))-{i}:\n",
    "        tr_idx = np.concatenate([tr_idx, np.where(X['people_id'].isin(val_ppls[j]))[0]])\n",
    "    tr_idx.sort()\n",
    "    train_indices.append(tr_idx.astype('int'))"
   ]
  },
  {
   "cell_type": "code",
   "execution_count": 45,
   "metadata": {},
   "outputs": [
    {
     "data": {
      "text/plain": [
       "[0.43465937792680498,\n",
       " 0.43169463931243002,\n",
       " 0.43697162330427947,\n",
       " 0.43611494095966147,\n",
       " 0.43739333917663986]"
      ]
     },
     "execution_count": 45,
     "metadata": {},
     "output_type": "execute_result"
    }
   ],
   "source": [
    "map(np.mean,ys_val)"
   ]
  },
  {
   "cell_type": "code",
   "execution_count": 12,
   "metadata": {},
   "outputs": [
    {
     "name": "stdout",
     "output_type": "stream",
     "text": [
      "collecting set 1...\n",
      "collecting set 2...\n",
      "collecting set 3...\n",
      "collecting set 4...\n",
      "collecting set 5...\n",
      "collecting set 6...\n",
      "CPU times: user 8.44 s, sys: 161 ms, total: 8.6 s\n",
      "Wall time: 8.6 s\n"
     ]
    }
   ],
   "source": [
    "%%time\n",
    "# cross validation split by people_id\n",
    "nb_folds = 6\n",
    "sample_per_fold = X.shape[0] // nb_folds\n",
    "# unstratified split for cv\n",
    "np.random.seed(0)\n",
    "val_ppls = []\n",
    "ppls = X['people_id'].unique()\n",
    "for i in range(nb_folds-1):\n",
    "    # create valid set people_id\n",
    "    print(\"collecting set %d...\" %(i+1))\n",
    "    val_people_id2num = {}\n",
    "    nb_val = 0\n",
    "    while nb_val < sample_per_fold:\n",
    "        p_id = np.random.choice(ppls,1)[0]\n",
    "        if p_id not in val_people_id2num:\n",
    "            val_people_id2num[p_id] = people_count[p_id]\n",
    "            nb_val += val_people_id2num[p_id]\n",
    "    val_ppls.append(val_people_id2num.keys())\n",
    "    ppls = np.array(list(set(ppls) - set(val_ppls[i])))\n",
    "\n",
    "print(\"collecting set {}...\".format(nb_folds))\n",
    "val_ppls.append(ppls)\n",
    "\n",
    "oof_index = np.where(X['people_id'].isin(val_ppls[-1]))[0]\n",
    "train_indices = []\n",
    "valid_indices = []\n",
    "for i in range(nb_folds-1):\n",
    "    valid_indices.append(np.where(X['people_id'].isin(val_ppls[i]))[0])\n",
    "    tr_idx = np.array([])\n",
    "    for j in set(range(nb_folds-1))-{i}:\n",
    "        tr_idx = np.concatenate([tr_idx, np.where(X['people_id'].isin(val_ppls[j]))[0]])\n",
    "    tr_idx.sort()\n",
    "    train_indices.append(tr_idx.astype('int'))"
   ]
  },
  {
   "cell_type": "code",
   "execution_count": 31,
   "metadata": {},
   "outputs": [
    {
     "data": {
      "text/plain": [
       "[0.41261649450192373,\n",
       " 0.44812200483322639,\n",
       " 0.48917718183481379,\n",
       " 0.47255939412802156,\n",
       " 0.49248812189394353]"
      ]
     },
     "execution_count": 31,
     "metadata": {},
     "output_type": "execute_result"
    }
   ],
   "source": [
    "map(np.mean,ys_val)"
   ]
  },
  {
   "cell_type": "code",
   "execution_count": 13,
   "metadata": {},
   "outputs": [],
   "source": [
    "not_categorical = list(set(X.columns)-set(categorical)-{'activity_id', 'people_id', 'outcome'})"
   ]
  },
  {
   "cell_type": "markdown",
   "metadata": {},
   "source": [
    "### Linear function based"
   ]
  },
  {
   "cell_type": "code",
   "execution_count": 14,
   "metadata": {},
   "outputs": [
    {
     "name": "stdout",
     "output_type": "stream",
     "text": [
      "One-hot encoding and transforming to sparse...\n",
      "Elapsed time: 16.80 seconds.\n",
      "Test data: (498687, 31271)\n"
     ]
    }
   ],
   "source": [
    "from sklearn.preprocessing import OneHotEncoder\n",
    "\n",
    "print \"One-hot encoding and transforming to sparse...\"\n",
    "t0 = time()\n",
    "enc = OneHotEncoder(handle_unknown='ignore')\n",
    "enc = enc.fit(pd.concat([X[categorical], X_test[categorical]]))\n",
    "X_test_cat_sparse = enc.transform(X_test[categorical])\n",
    "\n",
    "from scipy.sparse import hstack\n",
    "X_test_sparse = hstack((X_test[not_categorical], X_test_cat_sparse))\n",
    "print \"Elapsed time: %.2f seconds.\" %(time()-t0)\n",
    "\n",
    "print(\"Test data: \" + format(X_test_sparse.shape))\n",
    "del X_test_cat_sparse"
   ]
  },
  {
   "cell_type": "code",
   "execution_count": 15,
   "metadata": {
    "scrolled": true
   },
   "outputs": [
    {
     "name": "stdout",
     "output_type": "stream",
     "text": [
      "Transforming to DMatrix...\n",
      "CPU times: user 12.8 s, sys: 1.31 s, total: 14.1 s\n",
      "Wall time: 14.3 s\n"
     ]
    }
   ],
   "source": [
    "%%time\n",
    "print \"Transforming to DMatrix...\"\n",
    "dtest = xgb.DMatrix(X_test_sparse)\n",
    "del X_test_sparse"
   ]
  },
  {
   "cell_type": "code",
   "execution_count": 63,
   "metadata": {},
   "outputs": [
    {
     "name": "stdout",
     "output_type": "stream",
     "text": [
      "Transforming out-of-fold data to DMatrix...\n",
      "Out-of-fold data: (366658, 31271)\n",
      "DMatrix initialing...\n",
      "CPU times: user 11.3 s, sys: 2.84 s, total: 14.1 s\n",
      "Wall time: 15.8 s\n"
     ]
    }
   ],
   "source": [
    "%%time\n",
    "print \"Transforming out-of-fold data to DMatrix...\"\n",
    "X_oof = X.iloc[oof_index]\n",
    "y_oof = X_oof['outcome']\n",
    "\n",
    "X_oof_cat_sparse = enc.transform(X_oof[categorical])\n",
    "X_oof_sparse = hstack((X_oof[not_categorical], X_oof_cat_sparse))\n",
    "print(\"Out-of-fold data: \" + format(X_oof_sparse.shape))\n",
    "del X_oof, X_oof_cat_sparse\n",
    "    \n",
    "print(\"DMatrix initialing...\")\n",
    "doof = xgb.DMatrix(X_oof_sparse)\n",
    "del X_oof_sparse"
   ]
  },
  {
   "cell_type": "markdown",
   "metadata": {},
   "source": [
    "training with diversity from split by people_id and random seed"
   ]
  },
  {
   "cell_type": "code",
   "execution_count": 64,
   "metadata": {
    "scrolled": true
   },
   "outputs": [
    {
     "name": "stdout",
     "output_type": "stream",
     "text": [
      "\n",
      "Transforming data to sparse...\n",
      "Training data: (1464417, 31271)\n",
      "Validating data: (366216, 31271)\n",
      "Training fold 1...\n",
      "DMatrix initialing...\n",
      "Elapsed time: 65.05 seconds.\n",
      "[0]\ttrain-auc:0.944213\tvalidation-auc:0.932171\n",
      "Multiple eval metrics have been passed: 'validation-auc' will be used for early stopping.\n",
      "\n",
      "Will train until validation-auc hasn't improved in 3 rounds.\n",
      "[1]\ttrain-auc:0.983458\tvalidation-auc:0.958666\n",
      "[2]\ttrain-auc:0.991442\tvalidation-auc:0.968082\n",
      "[3]\ttrain-auc:0.993953\tvalidation-auc:0.972539\n",
      "[4]\ttrain-auc:0.995188\tvalidation-auc:0.97502\n",
      "[5]\ttrain-auc:0.99587\tvalidation-auc:0.976444\n",
      "[6]\ttrain-auc:0.996281\tvalidation-auc:0.977352\n",
      "[7]\ttrain-auc:0.996543\tvalidation-auc:0.977945\n",
      "[8]\ttrain-auc:0.996718\tvalidation-auc:0.978362\n",
      "[9]\ttrain-auc:0.996835\tvalidation-auc:0.978684\n",
      "[10]\ttrain-auc:0.996915\tvalidation-auc:0.978949\n",
      "[11]\ttrain-auc:0.99697\tvalidation-auc:0.97918\n",
      "[12]\ttrain-auc:0.99701\tvalidation-auc:0.979398\n",
      "[13]\ttrain-auc:0.997039\tvalidation-auc:0.979569\n",
      "[14]\ttrain-auc:0.997061\tvalidation-auc:0.979711\n",
      "[15]\ttrain-auc:0.997077\tvalidation-auc:0.979839\n",
      "[16]\ttrain-auc:0.997089\tvalidation-auc:0.979955\n",
      "[17]\ttrain-auc:0.997099\tvalidation-auc:0.980039\n",
      "[18]\ttrain-auc:0.997106\tvalidation-auc:0.980139\n",
      "[19]\ttrain-auc:0.997112\tvalidation-auc:0.980218\n",
      "[20]\ttrain-auc:0.997116\tvalidation-auc:0.980283\n",
      "[21]\ttrain-auc:0.99712\tvalidation-auc:0.980349\n",
      "[22]\ttrain-auc:0.997123\tvalidation-auc:0.9804\n",
      "[23]\ttrain-auc:0.997126\tvalidation-auc:0.980447\n",
      "[24]\ttrain-auc:0.997128\tvalidation-auc:0.980506\n",
      "[25]\ttrain-auc:0.99713\tvalidation-auc:0.980555\n",
      "[26]\ttrain-auc:0.997131\tvalidation-auc:0.980592\n",
      "[27]\ttrain-auc:0.997133\tvalidation-auc:0.980634\n",
      "[28]\ttrain-auc:0.997134\tvalidation-auc:0.980669\n",
      "[29]\ttrain-auc:0.997135\tvalidation-auc:0.980698\n",
      "[30]\ttrain-auc:0.997136\tvalidation-auc:0.980738\n",
      "[31]\ttrain-auc:0.997137\tvalidation-auc:0.980763\n",
      "[32]\ttrain-auc:0.997138\tvalidation-auc:0.980788\n",
      "[33]\ttrain-auc:0.997139\tvalidation-auc:0.980813\n",
      "[34]\ttrain-auc:0.99714\tvalidation-auc:0.980845\n",
      "[35]\ttrain-auc:0.997141\tvalidation-auc:0.980864\n",
      "[36]\ttrain-auc:0.997142\tvalidation-auc:0.980881\n",
      "[37]\ttrain-auc:0.997142\tvalidation-auc:0.980896\n",
      "[38]\ttrain-auc:0.997143\tvalidation-auc:0.980911\n",
      "[39]\ttrain-auc:0.997144\tvalidation-auc:0.980922\n",
      "[40]\ttrain-auc:0.997145\tvalidation-auc:0.980934\n",
      "[41]\ttrain-auc:0.997145\tvalidation-auc:0.980947\n",
      "[42]\ttrain-auc:0.997146\tvalidation-auc:0.980958\n",
      "[43]\ttrain-auc:0.997146\tvalidation-auc:0.98097\n",
      "[44]\ttrain-auc:0.997147\tvalidation-auc:0.980981\n",
      "[45]\ttrain-auc:0.997147\tvalidation-auc:0.980992\n",
      "[46]\ttrain-auc:0.997148\tvalidation-auc:0.981001\n",
      "[47]\ttrain-auc:0.997148\tvalidation-auc:0.981008\n",
      "[48]\ttrain-auc:0.997149\tvalidation-auc:0.981015\n",
      "[49]\ttrain-auc:0.997149\tvalidation-auc:0.981019\n",
      "[50]\ttrain-auc:0.99715\tvalidation-auc:0.981024\n",
      "[51]\ttrain-auc:0.99715\tvalidation-auc:0.981028\n",
      "[52]\ttrain-auc:0.997151\tvalidation-auc:0.981032\n",
      "[53]\ttrain-auc:0.997151\tvalidation-auc:0.981034\n",
      "[54]\ttrain-auc:0.997151\tvalidation-auc:0.981037\n",
      "[55]\ttrain-auc:0.997152\tvalidation-auc:0.981043\n",
      "[56]\ttrain-auc:0.997152\tvalidation-auc:0.981045\n",
      "[57]\ttrain-auc:0.997152\tvalidation-auc:0.981047\n",
      "[58]\ttrain-auc:0.997153\tvalidation-auc:0.981051\n",
      "[59]\ttrain-auc:0.997153\tvalidation-auc:0.981055\n",
      "[60]\ttrain-auc:0.997153\tvalidation-auc:0.981057\n",
      "[61]\ttrain-auc:0.997154\tvalidation-auc:0.981057\n",
      "[62]\ttrain-auc:0.997154\tvalidation-auc:0.981059\n",
      "[63]\ttrain-auc:0.997154\tvalidation-auc:0.981059\n",
      "[64]\ttrain-auc:0.997155\tvalidation-auc:0.98106\n",
      "[65]\ttrain-auc:0.997155\tvalidation-auc:0.981059\n",
      "[66]\ttrain-auc:0.997155\tvalidation-auc:0.98106\n",
      "[67]\ttrain-auc:0.997155\tvalidation-auc:0.981062\n",
      "[68]\ttrain-auc:0.997156\tvalidation-auc:0.981064\n",
      "[69]\ttrain-auc:0.997156\tvalidation-auc:0.981065\n",
      "[70]\ttrain-auc:0.997156\tvalidation-auc:0.981066\n",
      "[71]\ttrain-auc:0.997156\tvalidation-auc:0.981065\n",
      "[72]\ttrain-auc:0.997157\tvalidation-auc:0.981064\n",
      "[73]\ttrain-auc:0.997157\tvalidation-auc:0.981065\n",
      "Stopping. Best iteration:\n",
      "[70]\ttrain-auc:0.997156\tvalidation-auc:0.981066\n",
      "\n",
      "\n",
      "Transforming data to sparse...\n",
      "Training data: (1464380, 31271)\n",
      "Validating data: (366253, 31271)\n",
      "Training fold 2...\n",
      "DMatrix initialing...\n",
      "Elapsed time: 58.74 seconds.\n",
      "[0]\ttrain-auc:0.945706\tvalidation-auc:0.927522\n",
      "Multiple eval metrics have been passed: 'validation-auc' will be used for early stopping.\n",
      "\n",
      "Will train until validation-auc hasn't improved in 3 rounds.\n",
      "[1]\ttrain-auc:0.983271\tvalidation-auc:0.955916\n",
      "[2]\ttrain-auc:0.991422\tvalidation-auc:0.966911\n",
      "[3]\ttrain-auc:0.993978\tvalidation-auc:0.972568\n",
      "[4]\ttrain-auc:0.995194\tvalidation-auc:0.975694\n",
      "[5]\ttrain-auc:0.99588\tvalidation-auc:0.977502\n",
      "[6]\ttrain-auc:0.996292\tvalidation-auc:0.978555\n",
      "[7]\ttrain-auc:0.996556\tvalidation-auc:0.979213\n",
      "[8]\ttrain-auc:0.99673\tvalidation-auc:0.979651\n",
      "[9]\ttrain-auc:0.996845\tvalidation-auc:0.97995\n",
      "[10]\ttrain-auc:0.996922\tvalidation-auc:0.980169\n",
      "[11]\ttrain-auc:0.996976\tvalidation-auc:0.980329\n",
      "[12]\ttrain-auc:0.997015\tvalidation-auc:0.98045\n",
      "[13]\ttrain-auc:0.997043\tvalidation-auc:0.980541\n",
      "[14]\ttrain-auc:0.997065\tvalidation-auc:0.980615\n",
      "[15]\ttrain-auc:0.997081\tvalidation-auc:0.980677\n",
      "[16]\ttrain-auc:0.997093\tvalidation-auc:0.980728\n",
      "[17]\ttrain-auc:0.997102\tvalidation-auc:0.980769\n",
      "[18]\ttrain-auc:0.99711\tvalidation-auc:0.980804\n",
      "[19]\ttrain-auc:0.997116\tvalidation-auc:0.980831\n",
      "[20]\ttrain-auc:0.99712\tvalidation-auc:0.980853\n",
      "[21]\ttrain-auc:0.997124\tvalidation-auc:0.98087\n",
      "[22]\ttrain-auc:0.997127\tvalidation-auc:0.980884\n",
      "[23]\ttrain-auc:0.99713\tvalidation-auc:0.980897\n",
      "[24]\ttrain-auc:0.997132\tvalidation-auc:0.980909\n",
      "[25]\ttrain-auc:0.997134\tvalidation-auc:0.980917\n",
      "[26]\ttrain-auc:0.997136\tvalidation-auc:0.980924\n",
      "[27]\ttrain-auc:0.997138\tvalidation-auc:0.980929\n",
      "[28]\ttrain-auc:0.997139\tvalidation-auc:0.980933\n",
      "[29]\ttrain-auc:0.997141\tvalidation-auc:0.980936\n",
      "[30]\ttrain-auc:0.997142\tvalidation-auc:0.980939\n",
      "[31]\ttrain-auc:0.997143\tvalidation-auc:0.98094\n",
      "[32]\ttrain-auc:0.997144\tvalidation-auc:0.980942\n",
      "[33]\ttrain-auc:0.997145\tvalidation-auc:0.980943\n",
      "[34]\ttrain-auc:0.997146\tvalidation-auc:0.980944\n",
      "[35]\ttrain-auc:0.997147\tvalidation-auc:0.980945\n",
      "[36]\ttrain-auc:0.997148\tvalidation-auc:0.980946\n",
      "[37]\ttrain-auc:0.997149\tvalidation-auc:0.980947\n",
      "[38]\ttrain-auc:0.99715\tvalidation-auc:0.980946\n",
      "[39]\ttrain-auc:0.997151\tvalidation-auc:0.980947\n",
      "[40]\ttrain-auc:0.997151\tvalidation-auc:0.980946\n",
      "Stopping. Best iteration:\n",
      "[37]\ttrain-auc:0.997149\tvalidation-auc:0.980947\n",
      "\n",
      "\n",
      "Transforming data to sparse...\n",
      "Training data: (1464355, 31271)\n",
      "Validating data: (366278, 31271)\n",
      "Training fold 3...\n",
      "DMatrix initialing...\n",
      "Elapsed time: 58.32 seconds.\n",
      "[0]\ttrain-auc:0.944686\tvalidation-auc:0.910024\n",
      "Multiple eval metrics have been passed: 'validation-auc' will be used for early stopping.\n",
      "\n",
      "Will train until validation-auc hasn't improved in 3 rounds.\n",
      "[1]\ttrain-auc:0.982449\tvalidation-auc:0.946152\n",
      "[2]\ttrain-auc:0.991364\tvalidation-auc:0.959988\n",
      "[3]\ttrain-auc:0.99406\tvalidation-auc:0.966405\n",
      "[4]\ttrain-auc:0.995291\tvalidation-auc:0.96988\n",
      "[5]\ttrain-auc:0.99598\tvalidation-auc:0.971936\n",
      "[6]\ttrain-auc:0.996402\tvalidation-auc:0.973202\n",
      "[7]\ttrain-auc:0.996673\tvalidation-auc:0.974004\n",
      "[8]\ttrain-auc:0.996852\tvalidation-auc:0.974549\n",
      "[9]\ttrain-auc:0.99697\tvalidation-auc:0.974924\n",
      "[10]\ttrain-auc:0.99705\tvalidation-auc:0.975196\n",
      "[11]\ttrain-auc:0.997105\tvalidation-auc:0.97541\n",
      "[12]\ttrain-auc:0.997144\tvalidation-auc:0.975578\n",
      "[13]\ttrain-auc:0.997172\tvalidation-auc:0.975714\n",
      "[14]\ttrain-auc:0.997193\tvalidation-auc:0.975822\n",
      "[15]\ttrain-auc:0.997209\tvalidation-auc:0.975904\n",
      "[16]\ttrain-auc:0.997221\tvalidation-auc:0.97597\n",
      "[17]\ttrain-auc:0.997231\tvalidation-auc:0.976026\n",
      "[18]\ttrain-auc:0.997238\tvalidation-auc:0.976072\n",
      "[19]\ttrain-auc:0.997244\tvalidation-auc:0.976109\n",
      "[20]\ttrain-auc:0.997249\tvalidation-auc:0.97614\n",
      "[21]\ttrain-auc:0.997253\tvalidation-auc:0.976166\n",
      "[22]\ttrain-auc:0.997256\tvalidation-auc:0.976189\n",
      "[23]\ttrain-auc:0.997259\tvalidation-auc:0.976208\n",
      "[24]\ttrain-auc:0.997262\tvalidation-auc:0.976225\n",
      "[25]\ttrain-auc:0.997264\tvalidation-auc:0.976239\n",
      "[26]\ttrain-auc:0.997266\tvalidation-auc:0.976251\n",
      "[27]\ttrain-auc:0.997268\tvalidation-auc:0.976263\n",
      "[28]\ttrain-auc:0.997269\tvalidation-auc:0.976273\n",
      "[29]\ttrain-auc:0.997271\tvalidation-auc:0.976282\n",
      "[30]\ttrain-auc:0.997272\tvalidation-auc:0.976288\n",
      "[31]\ttrain-auc:0.997274\tvalidation-auc:0.976294\n",
      "[32]\ttrain-auc:0.997275\tvalidation-auc:0.976299\n",
      "[33]\ttrain-auc:0.997276\tvalidation-auc:0.976303\n"
     ]
    },
    {
     "name": "stdout",
     "output_type": "stream",
     "text": [
      "[34]\ttrain-auc:0.997277\tvalidation-auc:0.976306\n",
      "[35]\ttrain-auc:0.997278\tvalidation-auc:0.976309\n",
      "[36]\ttrain-auc:0.997279\tvalidation-auc:0.97631\n",
      "[37]\ttrain-auc:0.99728\tvalidation-auc:0.976311\n",
      "[38]\ttrain-auc:0.997281\tvalidation-auc:0.97631\n",
      "[39]\ttrain-auc:0.997282\tvalidation-auc:0.97631\n",
      "[40]\ttrain-auc:0.997283\tvalidation-auc:0.976309\n",
      "Stopping. Best iteration:\n",
      "[37]\ttrain-auc:0.99728\tvalidation-auc:0.976311\n",
      "\n",
      "\n",
      "Transforming data to sparse...\n",
      "Training data: (1464414, 31271)\n",
      "Validating data: (366219, 31271)\n",
      "Training fold 4...\n",
      "DMatrix initialing...\n",
      "Elapsed time: 59.56 seconds.\n",
      "[0]\ttrain-auc:0.94358\tvalidation-auc:0.900446\n",
      "Multiple eval metrics have been passed: 'validation-auc' will be used for early stopping.\n",
      "\n",
      "Will train until validation-auc hasn't improved in 3 rounds.\n",
      "[1]\ttrain-auc:0.982156\tvalidation-auc:0.941652\n",
      "[2]\ttrain-auc:0.991363\tvalidation-auc:0.958031\n",
      "[3]\ttrain-auc:0.994078\tvalidation-auc:0.965457\n",
      "[4]\ttrain-auc:0.995341\tvalidation-auc:0.969161\n",
      "[5]\ttrain-auc:0.996038\tvalidation-auc:0.971192\n",
      "[6]\ttrain-auc:0.996458\tvalidation-auc:0.97239\n",
      "[7]\ttrain-auc:0.996727\tvalidation-auc:0.973135\n",
      "[8]\ttrain-auc:0.996904\tvalidation-auc:0.97362\n",
      "[9]\ttrain-auc:0.997023\tvalidation-auc:0.973938\n",
      "[10]\ttrain-auc:0.997104\tvalidation-auc:0.974158\n",
      "[11]\ttrain-auc:0.997159\tvalidation-auc:0.974316\n",
      "[12]\ttrain-auc:0.997198\tvalidation-auc:0.974428\n",
      "[13]\ttrain-auc:0.997225\tvalidation-auc:0.974509\n",
      "[14]\ttrain-auc:0.997245\tvalidation-auc:0.974571\n",
      "[15]\ttrain-auc:0.997261\tvalidation-auc:0.974619\n",
      "[16]\ttrain-auc:0.997272\tvalidation-auc:0.974659\n",
      "[17]\ttrain-auc:0.997281\tvalidation-auc:0.974693\n",
      "[18]\ttrain-auc:0.997288\tvalidation-auc:0.974724\n",
      "[19]\ttrain-auc:0.997293\tvalidation-auc:0.974752\n",
      "[20]\ttrain-auc:0.997298\tvalidation-auc:0.974778\n",
      "[21]\ttrain-auc:0.997301\tvalidation-auc:0.974802\n",
      "[22]\ttrain-auc:0.997304\tvalidation-auc:0.974826\n",
      "[23]\ttrain-auc:0.997307\tvalidation-auc:0.974848\n",
      "[24]\ttrain-auc:0.997309\tvalidation-auc:0.974871\n",
      "[25]\ttrain-auc:0.997311\tvalidation-auc:0.974892\n",
      "[26]\ttrain-auc:0.997312\tvalidation-auc:0.974912\n",
      "[27]\ttrain-auc:0.997314\tvalidation-auc:0.974931\n",
      "[28]\ttrain-auc:0.997315\tvalidation-auc:0.974949\n",
      "[29]\ttrain-auc:0.997317\tvalidation-auc:0.974966\n",
      "[30]\ttrain-auc:0.997318\tvalidation-auc:0.974982\n",
      "[31]\ttrain-auc:0.997319\tvalidation-auc:0.974997\n",
      "[32]\ttrain-auc:0.99732\tvalidation-auc:0.975011\n",
      "[33]\ttrain-auc:0.997321\tvalidation-auc:0.975023\n",
      "[34]\ttrain-auc:0.997322\tvalidation-auc:0.975035\n",
      "[35]\ttrain-auc:0.997322\tvalidation-auc:0.975046\n",
      "[36]\ttrain-auc:0.997323\tvalidation-auc:0.975056\n",
      "[37]\ttrain-auc:0.997324\tvalidation-auc:0.975064\n",
      "[38]\ttrain-auc:0.997325\tvalidation-auc:0.975072\n",
      "[39]\ttrain-auc:0.997326\tvalidation-auc:0.975079\n",
      "[40]\ttrain-auc:0.997326\tvalidation-auc:0.975085\n",
      "[41]\ttrain-auc:0.997327\tvalidation-auc:0.975092\n",
      "[42]\ttrain-auc:0.997328\tvalidation-auc:0.975098\n",
      "[43]\ttrain-auc:0.997328\tvalidation-auc:0.975103\n",
      "[44]\ttrain-auc:0.997329\tvalidation-auc:0.975107\n",
      "[45]\ttrain-auc:0.99733\tvalidation-auc:0.975111\n",
      "[46]\ttrain-auc:0.99733\tvalidation-auc:0.975115\n",
      "[47]\ttrain-auc:0.997331\tvalidation-auc:0.975117\n",
      "[48]\ttrain-auc:0.997331\tvalidation-auc:0.97512\n",
      "[49]\ttrain-auc:0.997332\tvalidation-auc:0.975122\n",
      "[50]\ttrain-auc:0.997332\tvalidation-auc:0.975123\n",
      "[51]\ttrain-auc:0.997333\tvalidation-auc:0.975124\n",
      "[52]\ttrain-auc:0.997333\tvalidation-auc:0.975125\n",
      "[53]\ttrain-auc:0.997333\tvalidation-auc:0.975125\n",
      "[54]\ttrain-auc:0.997334\tvalidation-auc:0.975125\n",
      "[55]\ttrain-auc:0.997334\tvalidation-auc:0.975125\n",
      "Stopping. Best iteration:\n",
      "[52]\ttrain-auc:0.997333\tvalidation-auc:0.975125\n",
      "\n",
      "\n",
      "Transforming data to sparse...\n",
      "Training data: (1464966, 31271)\n",
      "Validating data: (365667, 31271)\n",
      "Training fold 5...\n",
      "DMatrix initialing...\n",
      "Elapsed time: 61.91 seconds.\n",
      "[0]\ttrain-auc:0.94463\tvalidation-auc:0.922959\n",
      "Multiple eval metrics have been passed: 'validation-auc' will be used for early stopping.\n",
      "\n",
      "Will train until validation-auc hasn't improved in 3 rounds.\n",
      "[1]\ttrain-auc:0.983079\tvalidation-auc:0.952043\n",
      "[2]\ttrain-auc:0.991552\tvalidation-auc:0.962926\n",
      "[3]\ttrain-auc:0.994173\tvalidation-auc:0.967768\n",
      "[4]\ttrain-auc:0.995421\tvalidation-auc:0.969929\n",
      "[5]\ttrain-auc:0.996115\tvalidation-auc:0.971117\n",
      "[6]\ttrain-auc:0.996523\tvalidation-auc:0.971596\n",
      "[7]\ttrain-auc:0.996779\tvalidation-auc:0.971666\n",
      "[8]\ttrain-auc:0.996941\tvalidation-auc:0.971914\n",
      "[9]\ttrain-auc:0.997045\tvalidation-auc:0.971857\n",
      "[10]\ttrain-auc:0.997114\tvalidation-auc:0.971825\n",
      "[11]\ttrain-auc:0.99716\tvalidation-auc:0.971503\n",
      "Stopping. Best iteration:\n",
      "[8]\ttrain-auc:0.996941\tvalidation-auc:0.971914\n",
      "\n",
      "CPU times: user 9min 8s, sys: 1min 46s, total: 10min 55s\n",
      "Wall time: 9min 18s\n"
     ]
    }
   ],
   "source": [
    "%%time\n",
    "preds_oof = []\n",
    "preds_val = []\n",
    "ys_val = []\n",
    "preds_test = []\n",
    "for i in range(nb_folds-1):\n",
    "    print(\"\\nTransforming data to sparse...\")\n",
    "    X_tr = X.iloc[train_indices[i]]\n",
    "    X_val = X.iloc[valid_indices[i]]\n",
    "    y_tr, y_val = X_tr['outcome'], X_val['outcome']\n",
    "    ys_val.append(y_val)\n",
    "    \n",
    "    X_cat_sparse = enc.transform(X_tr[categorical])\n",
    "    X_val_cat_sparse = enc.transform(X_val[categorical])\n",
    "    X_sparse = hstack((X_tr[not_categorical], X_cat_sparse))\n",
    "    X_val_sparse = hstack((X_val[not_categorical], X_val_cat_sparse))\n",
    "    \n",
    "    print(\"Training data: \" + format(X_sparse.shape))\n",
    "    print(\"Validating data: \" + format(X_val_sparse.shape))\n",
    "    del X_tr, X_val, X_cat_sparse, X_val_cat_sparse\n",
    "    \n",
    "    print(\"Training fold %d...\" %(i+1))\n",
    "    print(\"DMatrix initialing...\")\n",
    "    t0 = time()\n",
    "    dtrain = xgb.DMatrix(X_sparse, label=y_tr)\n",
    "    dval = xgb.DMatrix(X_val_sparse, label=y_val)\n",
    "    print(\"Elapsed time: %.2f seconds.\" %(time()-t0))\n",
    "    del X_sparse, X_val_sparse\n",
    "    \n",
    "    seed = np.random.randint(100)\n",
    "    param = {'nthread':4, 'silent':1, 'objective':'binary:logistic', 'eval_metric':'auc', \n",
    "             'eta':0.2, 'alpha':0., 'lambda':0.2, 'booster':'gblinear', 'seed':seed}\n",
    "    early_stopping_rounds = 3\n",
    "    num_round = 100\n",
    "    watchlist  = [(dtrain,'train'), (dval,'validation')]\n",
    "    \n",
    "    bst = xgb.train(param, dtrain, num_round, watchlist, early_stopping_rounds=early_stopping_rounds)\n",
    "    preds_oof.append(bst.predict(doof))\n",
    "    preds_val.append(bst.predict(dval))\n",
    "    preds_test.append(bst.predict(dtest))"
   ]
  },
  {
   "cell_type": "code",
   "execution_count": 65,
   "metadata": {},
   "outputs": [
    {
     "data": {
      "text/plain": [
       "([0.98106510808602299,\n",
       "  0.98094627499723142,\n",
       "  0.97630933874807391,\n",
       "  0.97512499245732775,\n",
       "  0.97150336072982113],\n",
       " 0.97698981500369553)"
      ]
     },
     "execution_count": 65,
     "metadata": {},
     "output_type": "execute_result"
    }
   ],
   "source": [
    "from sklearn.metrics import roc_auc_score\n",
    "[roc_auc_score(ys_val[i], preds_val[i]) for i in range(nb_folds-1)], np.mean([roc_auc_score(ys_val[i], preds_val[i]) for i in range(nb_folds-1)])"
   ]
  },
  {
   "cell_type": "code",
   "execution_count": 66,
   "metadata": {},
   "outputs": [
    {
     "data": {
      "text/plain": [
       "[0.97861639944782564,\n",
       " 0.97908685534725748,\n",
       " 0.97838818629647961,\n",
       " 0.9790962497352026,\n",
       " 0.97835558696284697]"
      ]
     },
     "execution_count": 66,
     "metadata": {},
     "output_type": "execute_result"
    }
   ],
   "source": [
    "[roc_auc_score(y_oof, preds_oof[i]) for i in range(nb_folds-1)]  # out-of-fold set"
   ]
  },
  {
   "cell_type": "code",
   "execution_count": 78,
   "metadata": {},
   "outputs": [
    {
     "name": "stdout",
     "output_type": "stream",
     "text": [
      "('\\nMixed out-of-fold accuracy:', 0.91208428562856936)\n",
      "('Mixed out-of-fold auc:', 0.98070021934779028)\n"
     ]
    }
   ],
   "source": [
    "y_val = np.concatenate(ys_val)\n",
    "with open('y_val_gbl.pkl','wb') as f:\n",
    "    pickle.dump(y_val, f)\n",
    "pred_val = np.concatenate(preds_val)\n",
    "with open('pred_val_gbl.pkl','wb') as f:\n",
    "    pickle.dump(pred_val, f)\n",
    "pred_oof = np.mean(preds_oof, 0)\n",
    "print('\\nMixed out-of-fold accuracy:', np.mean(y_oof == (pred_oof>=0.5).astype('int8')))\n",
    "print('Mixed out-of-fold auc:', roc_auc_score(y_oof, pred_oof))\n",
    "with open('y_oof_gbl.pkl','wb') as f:\n",
    "    pickle.dump(y_oof, f)\n",
    "with open('pred_oof_gbl.pkl','wb') as f:\n",
    "    pickle.dump(pred_oof, f)"
   ]
  },
  {
   "cell_type": "code",
   "execution_count": 68,
   "metadata": {},
   "outputs": [],
   "source": [
    "pred_test = np.mean(preds_test, 0)\n",
    "submit = pd.DataFrame({ 'activity_id': act_id, 'outcome': pred_test })\n",
    "submit.to_csv('eval_gbl_oof_stack_mix.csv', index=False)"
   ]
  },
  {
   "cell_type": "code",
   "execution_count": 81,
   "metadata": {},
   "outputs": [],
   "source": [
    "from sklearn.metrics import roc_auc_score\n",
    "from sklearn.metrics import roc_curve\n",
    "\n",
    "val_score = roc_auc_score(y_val, pred_val)\n",
    "oof_score = roc_auc_score(y_oof, pred_oof)"
   ]
  },
  {
   "cell_type": "code",
   "execution_count": 82,
   "metadata": {},
   "outputs": [
    {
     "name": "stdout",
     "output_type": "stream",
     "text": [
      "validation accuracy: 90.9991%\n",
      "validation auc score: 0.9768\n",
      "mixed out-of-fold accuracy: 91.2084%\n",
      "mixed out-of-fold auc score: 0.9807\n"
     ]
    }
   ],
   "source": [
    "print('validation accuracy: %.4f%%' % (np.mean((pred_val>=0.5).astype(int) == y_val)*100))\n",
    "print('validation auc score: %.4f' % val_score)\n",
    "print('mixed out-of-fold accuracy: %.4f%%' % (np.mean((pred_oof>=0.5).astype(int) == y_oof)*100))\n",
    "print('mixed out-of-fold auc score: %.4f' % oof_score)"
   ]
  },
  {
   "cell_type": "code",
   "execution_count": 83,
   "metadata": {},
   "outputs": [
    {
     "data": {
      "image/png": "[encoded data removed]",
      "text/plain": [
       "<matplotlib.figure.Figure at 0x10c8d9150>"
      ]
     },
     "metadata": {},
     "output_type": "display_data"
    }
   ],
   "source": [
    "fpr, tpr, thresholds = roc_curve(y_val, pred_val)\n",
    "plt.figure(figsize=(6,5))\n",
    "plt.plot(fpr, tpr, color='darkorange',\n",
    "         lw=2, label='ROC curve (area = %0.4f)' % val_score)\n",
    "plt.plot([0, 1], [0, 1], color='navy', lw=2, linestyle='--')\n",
    "plt.xlim([-0.02, 1.0])\n",
    "plt.ylim([0.0, 1.02])\n",
    "plt.xlabel('False Positive Rate')\n",
    "plt.ylabel('True Positive Rate')\n",
    "plt.title('Receiver operating characteristic (ROC) curve')\n",
    "plt.legend(loc=\"lower right\")\n",
    "#plt.axis('tight')\n",
    "plt.show()"
   ]
  },
  {
   "cell_type": "code",
   "execution_count": 84,
   "metadata": {},
   "outputs": [
    {
     "name": "stdout",
     "output_type": "stream",
     "text": [
      "[[883973 131057]\n",
      " [ 33717 781886]]\n"
     ]
    },
    {
     "data": {
      "image/png": "[encoded data removed]",
      "text/plain": [
       "<matplotlib.figure.Figure at 0x1110a1790>"
      ]
     },
     "metadata": {},
     "output_type": "display_data"
    }
   ],
   "source": [
    "cm = confusion_matrix(y_val, (pred_val>=0.5).astype(int))\n",
    "plot_confusion_matrix(cm, [0,1])"
   ]
  },
  {
   "cell_type": "code",
   "execution_count": 85,
   "metadata": {},
   "outputs": [
    {
     "name": "stdout",
     "output_type": "stream",
     "text": [
      "[[ 0.4829  0.0716]\n",
      " [ 0.0184  0.4271]]\n"
     ]
    },
    {
     "data": {
      "image/png": "[encoded data removed]",
      "text/plain": [
       "<matplotlib.figure.Figure at 0x1110a1850>"
      ]
     },
     "metadata": {},
     "output_type": "display_data"
    }
   ],
   "source": [
    "plot_confusion_matrix(cm / float(len(y_val)), [0,1])"
   ]
  },
  {
   "cell_type": "code",
   "execution_count": 92,
   "metadata": {},
   "outputs": [
    {
     "data": {
      "image/png": "[encoded data removed]",
      "text/plain": [
       "<matplotlib.figure.Figure at 0x10f53f750>"
      ]
     },
     "metadata": {},
     "output_type": "display_data"
    }
   ],
   "source": [
    "fpr, tpr, thresholds = roc_curve(y_oof, pred_oof)\n",
    "plt.figure(figsize=(6,5))\n",
    "plt.plot(fpr, tpr, color='darkorange',\n",
    "         lw=2, label='ROC curve (area = %0.4f)' % oof_score)\n",
    "plt.plot([0, 1], [0, 1], color='navy', lw=2, linestyle='--')\n",
    "plt.xlim([-0.02, 1.0])\n",
    "plt.ylim([0.0, 1.02])\n",
    "plt.xlabel('False Positive Rate')\n",
    "plt.ylabel('True Positive Rate')\n",
    "plt.title('Receiver operating characteristic (ROC) curve')\n",
    "plt.legend(loc=\"lower right\")\n",
    "#plt.axis('tight')\n",
    "plt.show()"
   ]
  },
  {
   "cell_type": "code",
   "execution_count": 88,
   "metadata": {},
   "outputs": [
    {
     "name": "stdout",
     "output_type": "stream",
     "text": [
      "[[180588  26176]\n",
      " [  6059 153835]]\n"
     ]
    },
    {
     "data": {
      "image/png": "[encoded data removed]",
      "text/plain": [
       "<matplotlib.figure.Figure at 0x10f56fa10>"
      ]
     },
     "metadata": {},
     "output_type": "display_data"
    }
   ],
   "source": [
    "cm = confusion_matrix(y_oof, (pred_oof>=0.5).astype(int))\n",
    "plot_confusion_matrix(cm, [0,1])"
   ]
  },
  {
   "cell_type": "code",
   "execution_count": 90,
   "metadata": {},
   "outputs": [
    {
     "name": "stdout",
     "output_type": "stream",
     "text": [
      "[[ 0.4925  0.0714]\n",
      " [ 0.0165  0.4196]]\n"
     ]
    },
    {
     "data": {
      "image/png": "[encoded data removed]",
      "text/plain": [
       "<matplotlib.figure.Figure at 0x10d3c2850>"
      ]
     },
     "metadata": {},
     "output_type": "display_data"
    }
   ],
   "source": [
    "plot_confusion_matrix(cm / float(len(y_oof)), [0,1])"
   ]
  },
  {
   "cell_type": "markdown",
   "metadata": {},
   "source": [
    "### Tree-based"
   ]
  },
  {
   "cell_type": "markdown",
   "metadata": {},
   "source": [
    "With no one-hot encoding"
   ]
  },
  {
   "cell_type": "code",
   "execution_count": 93,
   "metadata": {
    "scrolled": true
   },
   "outputs": [
    {
     "name": "stdout",
     "output_type": "stream",
     "text": [
      "XGBoost initialing...\n",
      "CPU times: user 1.54 s, sys: 2.66 s, total: 4.2 s\n",
      "Wall time: 5.55 s\n"
     ]
    }
   ],
   "source": [
    "%%time\n",
    "X_oof = X.iloc[oof_index]\n",
    "y_oof = X_oof['outcome']\n",
    "print \"XGBoost initialing...\"\n",
    "dtest = xgb.DMatrix(X_test.drop(['activity_id', 'people_id'], axis=1))\n",
    "doof = xgb.DMatrix(X_oof.drop(['activity_id', 'people_id', 'outcome'], axis=1))"
   ]
  },
  {
   "cell_type": "code",
   "execution_count": 94,
   "metadata": {
    "scrolled": true
   },
   "outputs": [
    {
     "name": "stdout",
     "output_type": "stream",
     "text": [
      "\n",
      "Train/val splitting...\n",
      "Training fold 1...\n",
      "DMatrix initialing...\n",
      "Elapsed time: 10.31 seconds.\n",
      "[0]\ttrain-auc:0.828199\tvalidation-auc:0.817231\n",
      "Multiple eval metrics have been passed: 'validation-auc' will be used for early stopping.\n",
      "\n",
      "Will train until validation-auc hasn't improved in 5 rounds.\n",
      "[1]\ttrain-auc:0.931043\tvalidation-auc:0.931662\n",
      "[2]\ttrain-auc:0.935908\tvalidation-auc:0.935511\n",
      "[3]\ttrain-auc:0.938505\tvalidation-auc:0.936371\n",
      "[4]\ttrain-auc:0.944853\tvalidation-auc:0.940811\n",
      "[5]\ttrain-auc:0.94721\tvalidation-auc:0.941778\n",
      "[6]\ttrain-auc:0.949345\tvalidation-auc:0.942593\n",
      "[7]\ttrain-auc:0.950567\tvalidation-auc:0.942825\n",
      "[8]\ttrain-auc:0.951122\tvalidation-auc:0.942507\n",
      "[9]\ttrain-auc:0.951737\tvalidation-auc:0.942672\n",
      "[10]\ttrain-auc:0.95305\tvalidation-auc:0.943005\n",
      "[11]\ttrain-auc:0.955221\tvalidation-auc:0.945221\n",
      "[12]\ttrain-auc:0.956287\tvalidation-auc:0.945527\n",
      "[13]\ttrain-auc:0.958025\tvalidation-auc:0.946774\n",
      "[14]\ttrain-auc:0.958587\tvalidation-auc:0.947752\n",
      "[15]\ttrain-auc:0.959907\tvalidation-auc:0.949029\n",
      "[16]\ttrain-auc:0.960901\tvalidation-auc:0.948821\n",
      "[17]\ttrain-auc:0.961844\tvalidation-auc:0.949525\n",
      "[18]\ttrain-auc:0.96306\tvalidation-auc:0.949733\n",
      "[19]\ttrain-auc:0.963542\tvalidation-auc:0.949685\n",
      "[20]\ttrain-auc:0.96455\tvalidation-auc:0.949943\n",
      "[21]\ttrain-auc:0.965462\tvalidation-auc:0.949786\n",
      "[22]\ttrain-auc:0.965911\tvalidation-auc:0.949727\n",
      "[23]\ttrain-auc:0.967036\tvalidation-auc:0.950374\n",
      "[24]\ttrain-auc:0.967341\tvalidation-auc:0.950198\n",
      "[25]\ttrain-auc:0.968219\tvalidation-auc:0.950464\n",
      "[26]\ttrain-auc:0.968788\tvalidation-auc:0.950623\n",
      "[27]\ttrain-auc:0.968984\tvalidation-auc:0.950783\n",
      "[28]\ttrain-auc:0.969371\tvalidation-auc:0.950795\n",
      "[29]\ttrain-auc:0.969867\tvalidation-auc:0.951422\n",
      "[30]\ttrain-auc:0.970209\tvalidation-auc:0.951384\n",
      "[31]\ttrain-auc:0.970653\tvalidation-auc:0.951132\n",
      "[32]\ttrain-auc:0.970992\tvalidation-auc:0.951531\n",
      "[33]\ttrain-auc:0.971627\tvalidation-auc:0.952066\n",
      "[34]\ttrain-auc:0.972238\tvalidation-auc:0.952411\n",
      "[35]\ttrain-auc:0.972522\tvalidation-auc:0.952526\n",
      "[36]\ttrain-auc:0.972721\tvalidation-auc:0.952458\n",
      "[37]\ttrain-auc:0.973265\tvalidation-auc:0.952191\n",
      "[38]\ttrain-auc:0.973513\tvalidation-auc:0.952333\n",
      "[39]\ttrain-auc:0.974068\tvalidation-auc:0.9524\n",
      "[40]\ttrain-auc:0.974527\tvalidation-auc:0.952374\n",
      "Stopping. Best iteration:\n",
      "[35]\ttrain-auc:0.972522\tvalidation-auc:0.952526\n",
      "\n",
      "\n",
      "Train/val splitting...\n",
      "Training fold 2...\n",
      "DMatrix initialing...\n",
      "Elapsed time: 10.93 seconds.\n",
      "[0]\ttrain-auc:0.805316\tvalidation-auc:0.798854\n",
      "Multiple eval metrics have been passed: 'validation-auc' will be used for early stopping.\n",
      "\n",
      "Will train until validation-auc hasn't improved in 5 rounds.\n",
      "[1]\ttrain-auc:0.921379\tvalidation-auc:0.911201\n",
      "[2]\ttrain-auc:0.938717\tvalidation-auc:0.931531\n",
      "[3]\ttrain-auc:0.944279\tvalidation-auc:0.936522\n",
      "[4]\ttrain-auc:0.947433\tvalidation-auc:0.941099\n",
      "[5]\ttrain-auc:0.949945\tvalidation-auc:0.943015\n",
      "[6]\ttrain-auc:0.950977\tvalidation-auc:0.943217\n",
      "[7]\ttrain-auc:0.952165\tvalidation-auc:0.94346\n",
      "[8]\ttrain-auc:0.95317\tvalidation-auc:0.943475\n",
      "[9]\ttrain-auc:0.955645\tvalidation-auc:0.946123\n",
      "[10]\ttrain-auc:0.956665\tvalidation-auc:0.946316\n",
      "[11]\ttrain-auc:0.957521\tvalidation-auc:0.946498\n",
      "[12]\ttrain-auc:0.959373\tvalidation-auc:0.948211\n",
      "[13]\ttrain-auc:0.959928\tvalidation-auc:0.948409\n",
      "[14]\ttrain-auc:0.961231\tvalidation-auc:0.949279\n",
      "[15]\ttrain-auc:0.96198\tvalidation-auc:0.949932\n",
      "[16]\ttrain-auc:0.962762\tvalidation-auc:0.950343\n",
      "[17]\ttrain-auc:0.963821\tvalidation-auc:0.950889\n",
      "[18]\ttrain-auc:0.96459\tvalidation-auc:0.950856\n",
      "[19]\ttrain-auc:0.965117\tvalidation-auc:0.950885\n",
      "[20]\ttrain-auc:0.965666\tvalidation-auc:0.951595\n",
      "[21]\ttrain-auc:0.966169\tvalidation-auc:0.952311\n",
      "[22]\ttrain-auc:0.966654\tvalidation-auc:0.952418\n",
      "[23]\ttrain-auc:0.967226\tvalidation-auc:0.952859\n",
      "[24]\ttrain-auc:0.968146\tvalidation-auc:0.95343\n",
      "[25]\ttrain-auc:0.968643\tvalidation-auc:0.953404\n",
      "[26]\ttrain-auc:0.969096\tvalidation-auc:0.953787\n",
      "[27]\ttrain-auc:0.969415\tvalidation-auc:0.953836\n",
      "[28]\ttrain-auc:0.969884\tvalidation-auc:0.954155\n",
      "[29]\ttrain-auc:0.970657\tvalidation-auc:0.954583\n",
      "[30]\ttrain-auc:0.971078\tvalidation-auc:0.954922\n",
      "[31]\ttrain-auc:0.971579\tvalidation-auc:0.955462\n",
      "[32]\ttrain-auc:0.971727\tvalidation-auc:0.955749\n",
      "[33]\ttrain-auc:0.972222\tvalidation-auc:0.956031\n",
      "[34]\ttrain-auc:0.972562\tvalidation-auc:0.956271\n",
      "[35]\ttrain-auc:0.972864\tvalidation-auc:0.956247\n",
      "[36]\ttrain-auc:0.973067\tvalidation-auc:0.956381\n",
      "[37]\ttrain-auc:0.973362\tvalidation-auc:0.956523\n",
      "[38]\ttrain-auc:0.973583\tvalidation-auc:0.95657\n",
      "[39]\ttrain-auc:0.973686\tvalidation-auc:0.95667\n",
      "[40]\ttrain-auc:0.974219\tvalidation-auc:0.957067\n",
      "[41]\ttrain-auc:0.974445\tvalidation-auc:0.957214\n",
      "[42]\ttrain-auc:0.975056\tvalidation-auc:0.957703\n",
      "[43]\ttrain-auc:0.975324\tvalidation-auc:0.957809\n",
      "[44]\ttrain-auc:0.975596\tvalidation-auc:0.957857\n",
      "[45]\ttrain-auc:0.975924\tvalidation-auc:0.95813\n",
      "[46]\ttrain-auc:0.976172\tvalidation-auc:0.95806\n",
      "[47]\ttrain-auc:0.976478\tvalidation-auc:0.957974\n",
      "[48]\ttrain-auc:0.976904\tvalidation-auc:0.958304\n",
      "[49]\ttrain-auc:0.977103\tvalidation-auc:0.958292\n",
      "\n",
      "Train/val splitting...\n",
      "Training fold 3...\n",
      "DMatrix initialing...\n",
      "Elapsed time: 12.46 seconds.\n",
      "[0]\ttrain-auc:0.932101\tvalidation-auc:0.914063\n",
      "Multiple eval metrics have been passed: 'validation-auc' will be used for early stopping.\n",
      "\n",
      "Will train until validation-auc hasn't improved in 5 rounds.\n",
      "[1]\ttrain-auc:0.935711\tvalidation-auc:0.912336\n",
      "[2]\ttrain-auc:0.940211\tvalidation-auc:0.918289\n",
      "[3]\ttrain-auc:0.948502\tvalidation-auc:0.926135\n",
      "[4]\ttrain-auc:0.949502\tvalidation-auc:0.928862\n",
      "[5]\ttrain-auc:0.951396\tvalidation-auc:0.930067\n",
      "[6]\ttrain-auc:0.953578\tvalidation-auc:0.933541\n",
      "[7]\ttrain-auc:0.954929\tvalidation-auc:0.933634\n",
      "[8]\ttrain-auc:0.955722\tvalidation-auc:0.934513\n",
      "[9]\ttrain-auc:0.957135\tvalidation-auc:0.934414\n",
      "[10]\ttrain-auc:0.957937\tvalidation-auc:0.934399\n",
      "[11]\ttrain-auc:0.958773\tvalidation-auc:0.934884\n",
      "[12]\ttrain-auc:0.959454\tvalidation-auc:0.93499\n",
      "[13]\ttrain-auc:0.960415\tvalidation-auc:0.935476\n",
      "[14]\ttrain-auc:0.961163\tvalidation-auc:0.93569\n",
      "[15]\ttrain-auc:0.961938\tvalidation-auc:0.936354\n",
      "[16]\ttrain-auc:0.962721\tvalidation-auc:0.936784\n",
      "[17]\ttrain-auc:0.963809\tvalidation-auc:0.936856\n",
      "[18]\ttrain-auc:0.964096\tvalidation-auc:0.93706\n",
      "[19]\ttrain-auc:0.964976\tvalidation-auc:0.937369\n",
      "[20]\ttrain-auc:0.965916\tvalidation-auc:0.937475\n",
      "[21]\ttrain-auc:0.966474\tvalidation-auc:0.937768\n",
      "[22]\ttrain-auc:0.96683\tvalidation-auc:0.938331\n",
      "[23]\ttrain-auc:0.967179\tvalidation-auc:0.938388\n",
      "[24]\ttrain-auc:0.967726\tvalidation-auc:0.938981\n",
      "[25]\ttrain-auc:0.968438\tvalidation-auc:0.938727\n",
      "[26]\ttrain-auc:0.969172\tvalidation-auc:0.939391\n",
      "[27]\ttrain-auc:0.969642\tvalidation-auc:0.939316\n",
      "[28]\ttrain-auc:0.970343\tvalidation-auc:0.940179\n",
      "[29]\ttrain-auc:0.970837\tvalidation-auc:0.940202\n",
      "[30]\ttrain-auc:0.97189\tvalidation-auc:0.94006\n",
      "[31]\ttrain-auc:0.97228\tvalidation-auc:0.940528\n",
      "[32]\ttrain-auc:0.973204\tvalidation-auc:0.940932\n",
      "[33]\ttrain-auc:0.973599\tvalidation-auc:0.941319\n",
      "[34]\ttrain-auc:0.973881\tvalidation-auc:0.941087\n",
      "[35]\ttrain-auc:0.974315\tvalidation-auc:0.941094\n",
      "[36]\ttrain-auc:0.974781\tvalidation-auc:0.94138\n",
      "[37]\ttrain-auc:0.975232\tvalidation-auc:0.941857\n",
      "[38]\ttrain-auc:0.975381\tvalidation-auc:0.941847\n",
      "[39]\ttrain-auc:0.975798\tvalidation-auc:0.941956\n",
      "[40]\ttrain-auc:0.976224\tvalidation-auc:0.942054\n",
      "[41]\ttrain-auc:0.976373\tvalidation-auc:0.942073\n",
      "[42]\ttrain-auc:0.97664\tvalidation-auc:0.942236\n",
      "[43]\ttrain-auc:0.976785\tvalidation-auc:0.942302\n",
      "[44]\ttrain-auc:0.977168\tvalidation-auc:0.942514\n",
      "[45]\ttrain-auc:0.977403\tvalidation-auc:0.942533\n",
      "[46]\ttrain-auc:0.97761\tvalidation-auc:0.942436\n",
      "[47]\ttrain-auc:0.977787\tvalidation-auc:0.942549\n",
      "[48]\ttrain-auc:0.977994\tvalidation-auc:0.942402\n",
      "[49]\ttrain-auc:0.978175\tvalidation-auc:0.942574\n",
      "\n",
      "Train/val splitting...\n",
      "Training fold 4...\n",
      "DMatrix initialing...\n",
      "Elapsed time: 10.58 seconds.\n",
      "[0]\ttrain-auc:0.857635\tvalidation-auc:0.79831\n",
      "Multiple eval metrics have been passed: 'validation-auc' will be used for early stopping.\n",
      "\n",
      "Will train until validation-auc hasn't improved in 5 rounds.\n",
      "[1]\ttrain-auc:0.937087\tvalidation-auc:0.90634\n",
      "[2]\ttrain-auc:0.941306\tvalidation-auc:0.911449\n",
      "[3]\ttrain-auc:0.946805\tvalidation-auc:0.920138\n",
      "[4]\ttrain-auc:0.948686\tvalidation-auc:0.920106\n",
      "[5]\ttrain-auc:0.949806\tvalidation-auc:0.919295\n",
      "[6]\ttrain-auc:0.950988\tvalidation-auc:0.919381\n",
      "[7]\ttrain-auc:0.954415\tvalidation-auc:0.923082\n",
      "[8]\ttrain-auc:0.957038\tvalidation-auc:0.925967\n"
     ]
    },
    {
     "name": "stdout",
     "output_type": "stream",
     "text": [
      "[9]\ttrain-auc:0.957872\tvalidation-auc:0.925743\n",
      "[10]\ttrain-auc:0.959564\tvalidation-auc:0.926786\n",
      "[11]\ttrain-auc:0.96087\tvalidation-auc:0.928656\n",
      "[12]\ttrain-auc:0.962014\tvalidation-auc:0.928802\n",
      "[13]\ttrain-auc:0.962771\tvalidation-auc:0.928899\n",
      "[14]\ttrain-auc:0.963788\tvalidation-auc:0.929462\n",
      "[15]\ttrain-auc:0.964486\tvalidation-auc:0.930603\n",
      "[16]\ttrain-auc:0.965434\tvalidation-auc:0.931486\n",
      "[17]\ttrain-auc:0.966175\tvalidation-auc:0.93152\n",
      "[18]\ttrain-auc:0.967324\tvalidation-auc:0.932529\n",
      "[19]\ttrain-auc:0.967836\tvalidation-auc:0.933107\n",
      "[20]\ttrain-auc:0.968313\tvalidation-auc:0.933618\n",
      "[21]\ttrain-auc:0.968903\tvalidation-auc:0.933821\n",
      "[22]\ttrain-auc:0.969446\tvalidation-auc:0.934231\n",
      "[23]\ttrain-auc:0.970245\tvalidation-auc:0.934615\n",
      "[24]\ttrain-auc:0.970923\tvalidation-auc:0.934807\n",
      "[25]\ttrain-auc:0.971233\tvalidation-auc:0.935142\n",
      "[26]\ttrain-auc:0.971451\tvalidation-auc:0.935208\n",
      "[27]\ttrain-auc:0.971929\tvalidation-auc:0.935199\n",
      "[28]\ttrain-auc:0.972372\tvalidation-auc:0.934897\n",
      "[29]\ttrain-auc:0.972991\tvalidation-auc:0.934932\n",
      "[30]\ttrain-auc:0.973307\tvalidation-auc:0.934982\n",
      "[31]\ttrain-auc:0.973822\tvalidation-auc:0.935462\n",
      "[32]\ttrain-auc:0.974227\tvalidation-auc:0.93582\n",
      "[33]\ttrain-auc:0.974887\tvalidation-auc:0.936146\n",
      "[34]\ttrain-auc:0.975005\tvalidation-auc:0.936305\n",
      "[35]\ttrain-auc:0.975464\tvalidation-auc:0.936621\n",
      "[36]\ttrain-auc:0.975862\tvalidation-auc:0.937049\n",
      "[37]\ttrain-auc:0.976169\tvalidation-auc:0.937076\n",
      "[38]\ttrain-auc:0.976611\tvalidation-auc:0.936975\n",
      "[39]\ttrain-auc:0.97695\tvalidation-auc:0.937339\n",
      "[40]\ttrain-auc:0.977305\tvalidation-auc:0.937849\n",
      "[41]\ttrain-auc:0.977599\tvalidation-auc:0.938007\n",
      "[42]\ttrain-auc:0.977964\tvalidation-auc:0.937802\n",
      "[43]\ttrain-auc:0.978196\tvalidation-auc:0.937784\n",
      "[44]\ttrain-auc:0.978526\tvalidation-auc:0.938363\n",
      "[45]\ttrain-auc:0.978698\tvalidation-auc:0.938664\n",
      "[46]\ttrain-auc:0.978837\tvalidation-auc:0.938688\n",
      "[47]\ttrain-auc:0.979042\tvalidation-auc:0.938985\n",
      "[48]\ttrain-auc:0.979335\tvalidation-auc:0.939178\n",
      "[49]\ttrain-auc:0.979491\tvalidation-auc:0.939061\n",
      "\n",
      "Train/val splitting...\n",
      "Training fold 5...\n",
      "DMatrix initialing...\n",
      "Elapsed time: 14.77 seconds.\n",
      "[0]\ttrain-auc:0.921928\tvalidation-auc:0.906731\n",
      "Multiple eval metrics have been passed: 'validation-auc' will be used for early stopping.\n",
      "\n",
      "Will train until validation-auc hasn't improved in 5 rounds.\n",
      "[1]\ttrain-auc:0.942328\tvalidation-auc:0.921934\n",
      "[2]\ttrain-auc:0.941972\tvalidation-auc:0.924549\n",
      "[3]\ttrain-auc:0.946411\tvalidation-auc:0.930869\n",
      "[4]\ttrain-auc:0.946354\tvalidation-auc:0.929991\n",
      "[5]\ttrain-auc:0.947513\tvalidation-auc:0.932164\n",
      "[6]\ttrain-auc:0.950763\tvalidation-auc:0.934215\n",
      "[7]\ttrain-auc:0.951461\tvalidation-auc:0.933177\n",
      "[8]\ttrain-auc:0.953306\tvalidation-auc:0.933846\n",
      "[9]\ttrain-auc:0.954111\tvalidation-auc:0.936399\n",
      "[10]\ttrain-auc:0.956644\tvalidation-auc:0.938235\n",
      "[11]\ttrain-auc:0.957521\tvalidation-auc:0.937851\n",
      "[12]\ttrain-auc:0.959187\tvalidation-auc:0.936893\n",
      "[13]\ttrain-auc:0.959946\tvalidation-auc:0.937744\n",
      "[14]\ttrain-auc:0.961539\tvalidation-auc:0.933827\n",
      "[15]\ttrain-auc:0.962896\tvalidation-auc:0.931849\n",
      "Stopping. Best iteration:\n",
      "[10]\ttrain-auc:0.956644\tvalidation-auc:0.938235\n",
      "\n",
      "CPU times: user 21min 7s, sys: 1min, total: 22min 8s\n",
      "Wall time: 8min 24s\n"
     ]
    }
   ],
   "source": [
    "%%time\n",
    "preds_oof = []\n",
    "preds_val = []\n",
    "ys_val = []\n",
    "preds_test = []\n",
    "for i in range(nb_folds-1):\n",
    "    print(\"\\nTrain/val splitting...\")\n",
    "    X_tr = X.iloc[train_indices[i]]\n",
    "    X_val = X.iloc[valid_indices[i]]\n",
    "    y_tr, y_val = X_tr['outcome'], X_val['outcome']\n",
    "    ys_val.append(y_val)\n",
    "    \n",
    "    print(\"Training fold %d...\" %(i+1))\n",
    "    print(\"DMatrix initialing...\")\n",
    "    t0 = time()\n",
    "    X_tr = X_tr.drop(['activity_id', 'people_id', 'outcome'], axis=1)\n",
    "    X_val = X_val.drop(['activity_id', 'people_id', 'outcome'], axis=1)\n",
    "    dtrain = xgb.DMatrix(X_tr, label=y_tr)\n",
    "    dval = xgb.DMatrix(X_val, label=y_val)\n",
    "    print(\"Elapsed time: %.2f seconds.\" %(time()-t0))\n",
    "    del X_tr, X_val\n",
    "    \n",
    "    seed = np.random.randint(100)\n",
    "    param = {'nthread':4, 'silent':1, 'objective':'binary:logistic', 'eval_metric':'auc', 'booster':'gbtree', \n",
    "         'eta':0.2, 'max_depth': 8, 'subsample':0.8, 'colsample_bytree':0.5, 'seed':seed} #, 'colsample_bylevel':0.5\n",
    "    watchlist  = [(dtrain,'train'), (dval,'validation')]\n",
    "    num_round = 50\n",
    "    early_stopping_rounds = 5\n",
    "    \n",
    "    bst = xgb.train(param, dtrain, num_round, watchlist, early_stopping_rounds=early_stopping_rounds)\n",
    "    preds_oof.append(bst.predict(doof))\n",
    "    preds_val.append(bst.predict(dval))\n",
    "    preds_test.append(bst.predict(dtest))"
   ]
  },
  {
   "cell_type": "code",
   "execution_count": 95,
   "metadata": {},
   "outputs": [
    {
     "data": {
      "text/plain": [
       "([0.95237383504921813,\n",
       "  0.95829153497170294,\n",
       "  0.94257409350494636,\n",
       "  0.93906125584839928,\n",
       "  0.93184939126521926],\n",
       " 0.94483002212789713)"
      ]
     },
     "execution_count": 95,
     "metadata": {},
     "output_type": "execute_result"
    }
   ],
   "source": [
    "[roc_auc_score(ys_val[i], preds_val[i]) for i in range(nb_folds-1)], np.mean([roc_auc_score(ys_val[i], preds_val[i]) for i in range(nb_folds-1)])"
   ]
  },
  {
   "cell_type": "code",
   "execution_count": 96,
   "metadata": {},
   "outputs": [
    {
     "data": {
      "text/plain": [
       "[0.94829970228443339,\n",
       " 0.95222142792629272,\n",
       " 0.94993350300301249,\n",
       " 0.95156059436488349,\n",
       " 0.94349499608349507]"
      ]
     },
     "execution_count": 96,
     "metadata": {},
     "output_type": "execute_result"
    }
   ],
   "source": [
    "[roc_auc_score(y_oof, preds_oof[i]) for i in range(nb_folds-1)]  # out-of-fold set"
   ]
  },
  {
   "cell_type": "code",
   "execution_count": 97,
   "metadata": {},
   "outputs": [
    {
     "name": "stdout",
     "output_type": "stream",
     "text": [
      "('\\nMixed out-of-fold accuracy:', 0.87252971433870252)\n",
      "('Mixed out-of-fold auc:', 0.9537715397166463)\n"
     ]
    }
   ],
   "source": [
    "y_val = np.concatenate(ys_val)\n",
    "with open('y_val_gbt.pkl','wb') as f:\n",
    "    pickle.dump(y_val, f)\n",
    "pred_val = np.concatenate(preds_val)\n",
    "with open('pred_val_gbt.pkl','wb') as f:\n",
    "    pickle.dump(pred_val, f)\n",
    "pred_oof = np.mean(preds_oof, 0)\n",
    "print('\\nMixed out-of-fold accuracy:', np.mean(y_oof == (pred_oof>=0.5).astype('int8')))\n",
    "print('Mixed out-of-fold auc:', roc_auc_score(y_oof, pred_oof))\n",
    "with open('y_oof_gbt.pkl','wb') as f:\n",
    "    pickle.dump(y_oof, f)\n",
    "with open('pred_oof_gbt.pkl','wb') as f:\n",
    "    pickle.dump(pred_oof, f)"
   ]
  },
  {
   "cell_type": "code",
   "execution_count": 98,
   "metadata": {},
   "outputs": [],
   "source": [
    "pred_test = np.mean(preds_test, 0)\n",
    "submit = pd.DataFrame({ 'activity_id': act_id, 'outcome': pred_test })\n",
    "submit.to_csv('eval_gbt_oof_stack_mix.csv', index=False)"
   ]
  },
  {
   "cell_type": "code",
   "execution_count": 99,
   "metadata": {},
   "outputs": [],
   "source": [
    "from sklearn.metrics import roc_auc_score\n",
    "from sklearn.metrics import roc_curve\n",
    "\n",
    "val_score = roc_auc_score(y_val, pred_val)\n",
    "oof_score = roc_auc_score(y_oof, pred_oof)"
   ]
  },
  {
   "cell_type": "code",
   "execution_count": 100,
   "metadata": {},
   "outputs": [
    {
     "name": "stdout",
     "output_type": "stream",
     "text": [
      "validation accuracy: 87.5105%\n",
      "validation auc score: 0.9437\n",
      "mixed out-of-fold accuracy: 87.2530%\n",
      "mixed out-of-fold auc score: 0.9538\n"
     ]
    }
   ],
   "source": [
    "print('validation accuracy: %.4f%%' % (np.mean((pred_val>=0.5).astype(int) == y_val)*100))\n",
    "print('validation auc score: %.4f' % val_score)\n",
    "print('mixed out-of-fold accuracy: %.4f%%' % (np.mean((pred_oof>=0.5).astype(int) == y_oof)*100))\n",
    "print('mixed out-of-fold auc score: %.4f' % oof_score)"
   ]
  },
  {
   "cell_type": "code",
   "execution_count": 101,
   "metadata": {},
   "outputs": [
    {
     "data": {
      "image/png": "[encoded data removed]",
      "text/plain": [
       "<matplotlib.figure.Figure at 0x11267b850>"
      ]
     },
     "metadata": {},
     "output_type": "display_data"
    }
   ],
   "source": [
    "fpr, tpr, thresholds = roc_curve(y_val, pred_val)\n",
    "plt.figure(figsize=(6,5))\n",
    "plt.plot(fpr, tpr, color='darkorange',\n",
    "         lw=2, label='ROC curve (area = %0.4f)' % val_score)\n",
    "plt.plot([0, 1], [0, 1], color='navy', lw=2, linestyle='--')\n",
    "plt.xlim([-0.02, 1.0])\n",
    "plt.ylim([0.0, 1.02])\n",
    "plt.xlabel('False Positive Rate')\n",
    "plt.ylabel('True Positive Rate')\n",
    "plt.title('Receiver operating characteristic (ROC) curve')\n",
    "plt.legend(loc=\"lower right\")\n",
    "#plt.axis('tight')\n",
    "plt.show()"
   ]
  },
  {
   "cell_type": "code",
   "execution_count": 102,
   "metadata": {},
   "outputs": [
    {
     "name": "stdout",
     "output_type": "stream",
     "text": [
      "[[831984 183046]\n",
      " [ 45590 770013]]\n"
     ]
    },
    {
     "data": {
      "image/png": "[encoded data removed]",
      "text/plain": [
       "<matplotlib.figure.Figure at 0x10f0d4c50>"
      ]
     },
     "metadata": {},
     "output_type": "display_data"
    }
   ],
   "source": [
    "cm = confusion_matrix(y_val, (pred_val>=0.5).astype(int))\n",
    "plot_confusion_matrix(cm, [0,1])"
   ]
  },
  {
   "cell_type": "code",
   "execution_count": 103,
   "metadata": {},
   "outputs": [
    {
     "name": "stdout",
     "output_type": "stream",
     "text": [
      "[[ 0.4545  0.1   ]\n",
      " [ 0.0249  0.4206]]\n"
     ]
    },
    {
     "data": {
      "image/png": "[encoded data removed]",
      "text/plain": [
       "<matplotlib.figure.Figure at 0x112c4a510>"
      ]
     },
     "metadata": {},
     "output_type": "display_data"
    }
   ],
   "source": [
    "plot_confusion_matrix(cm / float(len(y_val)), [0,1])"
   ]
  },
  {
   "cell_type": "code",
   "execution_count": 104,
   "metadata": {},
   "outputs": [
    {
     "data": {
      "image/png": "[encoded data removed]",
      "text/plain": [
       "<matplotlib.figure.Figure at 0x11b25c050>"
      ]
     },
     "metadata": {},
     "output_type": "display_data"
    }
   ],
   "source": [
    "fpr, tpr, thresholds = roc_curve(y_oof, pred_oof)\n",
    "plt.figure(figsize=(6,5))\n",
    "plt.plot(fpr, tpr, color='darkorange',\n",
    "         lw=2, label='ROC curve (area = %0.4f)' % oof_score)\n",
    "plt.plot([0, 1], [0, 1], color='navy', lw=2, linestyle='--')\n",
    "plt.xlim([-0.02, 1.0])\n",
    "plt.ylim([0.0, 1.02])\n",
    "plt.xlabel('False Positive Rate')\n",
    "plt.ylabel('True Positive Rate')\n",
    "plt.title('Receiver operating characteristic (ROC) curve')\n",
    "plt.legend(loc=\"lower right\")\n",
    "#plt.axis('tight')\n",
    "plt.show()"
   ]
  },
  {
   "cell_type": "code",
   "execution_count": 105,
   "metadata": {},
   "outputs": [
    {
     "name": "stdout",
     "output_type": "stream",
     "text": [
      "[[167563  39201]\n",
      " [  7537 152357]]\n"
     ]
    },
    {
     "data": {
      "image/png": "[encoded data removed]",
      "text/plain": [
       "<matplotlib.figure.Figure at 0x10f53f690>"
      ]
     },
     "metadata": {},
     "output_type": "display_data"
    }
   ],
   "source": [
    "cm = confusion_matrix(y_oof, (pred_oof>=0.5).astype(int))\n",
    "plot_confusion_matrix(cm, [0,1])"
   ]
  },
  {
   "cell_type": "code",
   "execution_count": 106,
   "metadata": {},
   "outputs": [
    {
     "name": "stdout",
     "output_type": "stream",
     "text": [
      "[[ 0.457   0.1069]\n",
      " [ 0.0206  0.4155]]\n"
     ]
    },
    {
     "data": {
      "image/png": "[encoded data removed]",
      "text/plain": [
       "<matplotlib.figure.Figure at 0x1248429d0>"
      ]
     },
     "metadata": {},
     "output_type": "display_data"
    }
   ],
   "source": [
    "plot_confusion_matrix(cm / float(len(y_oof)), [0,1])"
   ]
  },
  {
   "cell_type": "code",
   "execution_count": null,
   "metadata": {
    "collapsed": true
   },
   "outputs": [],
   "source": []
  }
 ],
 "metadata": {
  "kernelspec": {
   "display_name": "Python 2",
   "language": "python",
   "name": "python2"
  },
  "language_info": {
   "codemirror_mode": {
    "name": "ipython",
    "version": 2
   },
   "file_extension": ".py",
   "mimetype": "text/x-python",
   "name": "python",
   "nbconvert_exporter": "python",
   "pygments_lexer": "ipython2",
   "version": "2.7.13"
  }
 },
 "nbformat": 4,
 "nbformat_minor": 1
}
