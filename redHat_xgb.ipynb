{
 "cells": [
  {
   "cell_type": "markdown",
   "metadata": {},
   "source": [
    "### XGBoost"
   ]
  },
  {
   "cell_type": "code",
   "execution_count": 1,
   "metadata": {},
   "outputs": [
    {
     "name": "stderr",
     "output_type": "stream",
     "text": [
      "Using Theano backend.\n",
      "/Library/Frameworks/Python.framework/Versions/2.7/lib/python2.7/site-packages/sklearn/cross_validation.py:41: DeprecationWarning: This module was deprecated in version 0.18 in favor of the model_selection module into which all the refactored classes and functions are moved. Also note that the interface of the new CV iterators are different from that of this module. This module will be removed in 0.20.\n",
      "  \"This module will be removed in 0.20.\", DeprecationWarning)\n"
     ]
    }
   ],
   "source": [
    "%matplotlib inline\n",
    "from utils import *\n",
    "import xgboost as xgb\n",
    "from time import time"
   ]
  },
  {
   "cell_type": "code",
   "execution_count": 2,
   "metadata": {},
   "outputs": [],
   "source": [
    "act_train_data = pd.read_csv(\"./act_train.csv\", \n",
    "                             dtype={'people_id': np.str, 'activity_id': np.str, 'outcome': np.int8}, \n",
    "                             parse_dates=['date'])\n",
    "act_test_data  = pd.read_csv(\"./act_test.csv\", \n",
    "                             dtype={'people_id': np.str, 'activity_id': np.str}, parse_dates=['date'])\n",
    "people_data    = pd.read_csv(\"./people.csv\", \n",
    "                             dtype={'people_id': np.str, 'activity_id': np.str, 'char_38': np.int32}, \n",
    "                             parse_dates=['date'])"
   ]
  },
  {
   "cell_type": "code",
   "execution_count": 3,
   "metadata": {},
   "outputs": [
    {
     "data": {
      "text/html": [
       "<div>\n",
       "<table border=\"1\" class=\"dataframe\">\n",
       "  <thead>\n",
       "    <tr style=\"text-align: right;\">\n",
       "      <th></th>\n",
       "      <th>people_id</th>\n",
       "      <th>activity_id</th>\n",
       "      <th>date</th>\n",
       "      <th>activity_category</th>\n",
       "      <th>char_1</th>\n",
       "      <th>char_2</th>\n",
       "      <th>char_3</th>\n",
       "      <th>char_4</th>\n",
       "      <th>char_5</th>\n",
       "      <th>char_6</th>\n",
       "      <th>char_7</th>\n",
       "      <th>char_8</th>\n",
       "      <th>char_9</th>\n",
       "      <th>char_10</th>\n",
       "      <th>outcome</th>\n",
       "    </tr>\n",
       "  </thead>\n",
       "  <tbody>\n",
       "    <tr>\n",
       "      <th>0</th>\n",
       "      <td>ppl_100</td>\n",
       "      <td>act2_1734928</td>\n",
       "      <td>2023-08-26</td>\n",
       "      <td>type 4</td>\n",
       "      <td>NaN</td>\n",
       "      <td>NaN</td>\n",
       "      <td>NaN</td>\n",
       "      <td>NaN</td>\n",
       "      <td>NaN</td>\n",
       "      <td>NaN</td>\n",
       "      <td>NaN</td>\n",
       "      <td>NaN</td>\n",
       "      <td>NaN</td>\n",
       "      <td>type 76</td>\n",
       "      <td>0</td>\n",
       "    </tr>\n",
       "    <tr>\n",
       "      <th>1</th>\n",
       "      <td>ppl_100</td>\n",
       "      <td>act2_2434093</td>\n",
       "      <td>2022-09-27</td>\n",
       "      <td>type 2</td>\n",
       "      <td>NaN</td>\n",
       "      <td>NaN</td>\n",
       "      <td>NaN</td>\n",
       "      <td>NaN</td>\n",
       "      <td>NaN</td>\n",
       "      <td>NaN</td>\n",
       "      <td>NaN</td>\n",
       "      <td>NaN</td>\n",
       "      <td>NaN</td>\n",
       "      <td>type 1</td>\n",
       "      <td>0</td>\n",
       "    </tr>\n",
       "    <tr>\n",
       "      <th>2</th>\n",
       "      <td>ppl_100</td>\n",
       "      <td>act2_3404049</td>\n",
       "      <td>2022-09-27</td>\n",
       "      <td>type 2</td>\n",
       "      <td>NaN</td>\n",
       "      <td>NaN</td>\n",
       "      <td>NaN</td>\n",
       "      <td>NaN</td>\n",
       "      <td>NaN</td>\n",
       "      <td>NaN</td>\n",
       "      <td>NaN</td>\n",
       "      <td>NaN</td>\n",
       "      <td>NaN</td>\n",
       "      <td>type 1</td>\n",
       "      <td>0</td>\n",
       "    </tr>\n",
       "  </tbody>\n",
       "</table>\n",
       "</div>"
      ],
      "text/plain": [
       "  people_id   activity_id       date activity_category char_1 char_2 char_3  \\\n",
       "0   ppl_100  act2_1734928 2023-08-26            type 4    NaN    NaN    NaN   \n",
       "1   ppl_100  act2_2434093 2022-09-27            type 2    NaN    NaN    NaN   \n",
       "2   ppl_100  act2_3404049 2022-09-27            type 2    NaN    NaN    NaN   \n",
       "\n",
       "  char_4 char_5 char_6 char_7 char_8 char_9  char_10  outcome  \n",
       "0    NaN    NaN    NaN    NaN    NaN    NaN  type 76        0  \n",
       "1    NaN    NaN    NaN    NaN    NaN    NaN   type 1        0  \n",
       "2    NaN    NaN    NaN    NaN    NaN    NaN   type 1        0  "
      ]
     },
     "execution_count": 3,
     "metadata": {},
     "output_type": "execute_result"
    }
   ],
   "source": [
    "act_train_data[:3]"
   ]
  },
  {
   "cell_type": "code",
   "execution_count": 4,
   "metadata": {
    "scrolled": true
   },
   "outputs": [
    {
     "name": "stdout",
     "output_type": "stream",
     "text": [
      "<class 'pandas.core.frame.DataFrame'>\n",
      "RangeIndex: 2197291 entries, 0 to 2197290\n",
      "Data columns (total 15 columns):\n",
      "people_id            object\n",
      "activity_id          object\n",
      "date                 datetime64[ns]\n",
      "activity_category    object\n",
      "char_1               object\n",
      "char_2               object\n",
      "char_3               object\n",
      "char_4               object\n",
      "char_5               object\n",
      "char_6               object\n",
      "char_7               object\n",
      "char_8               object\n",
      "char_9               object\n",
      "char_10              object\n",
      "outcome              int8\n",
      "dtypes: datetime64[ns](1), int8(1), object(13)\n",
      "memory usage: 236.8+ MB\n"
     ]
    }
   ],
   "source": [
    "act_train_data.info()"
   ]
  },
  {
   "cell_type": "code",
   "execution_count": 5,
   "metadata": {},
   "outputs": [
    {
     "data": {
      "text/html": [
       "<div>\n",
       "<table border=\"1\" class=\"dataframe\">\n",
       "  <thead>\n",
       "    <tr style=\"text-align: right;\">\n",
       "      <th></th>\n",
       "      <th>people_id</th>\n",
       "      <th>char_1</th>\n",
       "      <th>group_1</th>\n",
       "      <th>char_2</th>\n",
       "      <th>date</th>\n",
       "      <th>char_3</th>\n",
       "      <th>char_4</th>\n",
       "      <th>char_5</th>\n",
       "      <th>char_6</th>\n",
       "      <th>char_7</th>\n",
       "      <th>...</th>\n",
       "      <th>char_29</th>\n",
       "      <th>char_30</th>\n",
       "      <th>char_31</th>\n",
       "      <th>char_32</th>\n",
       "      <th>char_33</th>\n",
       "      <th>char_34</th>\n",
       "      <th>char_35</th>\n",
       "      <th>char_36</th>\n",
       "      <th>char_37</th>\n",
       "      <th>char_38</th>\n",
       "    </tr>\n",
       "  </thead>\n",
       "  <tbody>\n",
       "    <tr>\n",
       "      <th>0</th>\n",
       "      <td>ppl_100</td>\n",
       "      <td>type 2</td>\n",
       "      <td>group 17304</td>\n",
       "      <td>type 2</td>\n",
       "      <td>2021-06-29</td>\n",
       "      <td>type 5</td>\n",
       "      <td>type 5</td>\n",
       "      <td>type 5</td>\n",
       "      <td>type 3</td>\n",
       "      <td>type 11</td>\n",
       "      <td>...</td>\n",
       "      <td>False</td>\n",
       "      <td>True</td>\n",
       "      <td>True</td>\n",
       "      <td>False</td>\n",
       "      <td>False</td>\n",
       "      <td>True</td>\n",
       "      <td>True</td>\n",
       "      <td>True</td>\n",
       "      <td>False</td>\n",
       "      <td>36</td>\n",
       "    </tr>\n",
       "    <tr>\n",
       "      <th>1</th>\n",
       "      <td>ppl_100002</td>\n",
       "      <td>type 2</td>\n",
       "      <td>group 8688</td>\n",
       "      <td>type 3</td>\n",
       "      <td>2021-01-06</td>\n",
       "      <td>type 28</td>\n",
       "      <td>type 9</td>\n",
       "      <td>type 5</td>\n",
       "      <td>type 3</td>\n",
       "      <td>type 11</td>\n",
       "      <td>...</td>\n",
       "      <td>False</td>\n",
       "      <td>True</td>\n",
       "      <td>True</td>\n",
       "      <td>True</td>\n",
       "      <td>True</td>\n",
       "      <td>True</td>\n",
       "      <td>True</td>\n",
       "      <td>True</td>\n",
       "      <td>False</td>\n",
       "      <td>76</td>\n",
       "    </tr>\n",
       "    <tr>\n",
       "      <th>2</th>\n",
       "      <td>ppl_100003</td>\n",
       "      <td>type 2</td>\n",
       "      <td>group 33592</td>\n",
       "      <td>type 3</td>\n",
       "      <td>2022-06-10</td>\n",
       "      <td>type 4</td>\n",
       "      <td>type 8</td>\n",
       "      <td>type 5</td>\n",
       "      <td>type 2</td>\n",
       "      <td>type 5</td>\n",
       "      <td>...</td>\n",
       "      <td>False</td>\n",
       "      <td>False</td>\n",
       "      <td>True</td>\n",
       "      <td>True</td>\n",
       "      <td>True</td>\n",
       "      <td>True</td>\n",
       "      <td>False</td>\n",
       "      <td>True</td>\n",
       "      <td>True</td>\n",
       "      <td>99</td>\n",
       "    </tr>\n",
       "  </tbody>\n",
       "</table>\n",
       "<p>3 rows × 41 columns</p>\n",
       "</div>"
      ],
      "text/plain": [
       "    people_id  char_1      group_1  char_2       date   char_3  char_4  \\\n",
       "0     ppl_100  type 2  group 17304  type 2 2021-06-29   type 5  type 5   \n",
       "1  ppl_100002  type 2   group 8688  type 3 2021-01-06  type 28  type 9   \n",
       "2  ppl_100003  type 2  group 33592  type 3 2022-06-10   type 4  type 8   \n",
       "\n",
       "   char_5  char_6   char_7   ...   char_29 char_30 char_31 char_32 char_33  \\\n",
       "0  type 5  type 3  type 11   ...     False    True    True   False   False   \n",
       "1  type 5  type 3  type 11   ...     False    True    True    True    True   \n",
       "2  type 5  type 2   type 5   ...     False   False    True    True    True   \n",
       "\n",
       "  char_34 char_35 char_36 char_37 char_38  \n",
       "0    True    True    True   False      36  \n",
       "1    True    True    True   False      76  \n",
       "2    True   False    True    True      99  \n",
       "\n",
       "[3 rows x 41 columns]"
      ]
     },
     "execution_count": 5,
     "metadata": {},
     "output_type": "execute_result"
    }
   ],
   "source": [
    "people_data[:3]"
   ]
  },
  {
   "cell_type": "code",
   "execution_count": 6,
   "metadata": {
    "scrolled": true
   },
   "outputs": [
    {
     "name": "stdout",
     "output_type": "stream",
     "text": [
      "<class 'pandas.core.frame.DataFrame'>\n",
      "RangeIndex: 189118 entries, 0 to 189117\n",
      "Data columns (total 41 columns):\n",
      "people_id    189118 non-null object\n",
      "char_1       189118 non-null object\n",
      "group_1      189118 non-null object\n",
      "char_2       189118 non-null object\n",
      "date         189118 non-null datetime64[ns]\n",
      "char_3       189118 non-null object\n",
      "char_4       189118 non-null object\n",
      "char_5       189118 non-null object\n",
      "char_6       189118 non-null object\n",
      "char_7       189118 non-null object\n",
      "char_8       189118 non-null object\n",
      "char_9       189118 non-null object\n",
      "char_10      189118 non-null bool\n",
      "char_11      189118 non-null bool\n",
      "char_12      189118 non-null bool\n",
      "char_13      189118 non-null bool\n",
      "char_14      189118 non-null bool\n",
      "char_15      189118 non-null bool\n",
      "char_16      189118 non-null bool\n",
      "char_17      189118 non-null bool\n",
      "char_18      189118 non-null bool\n",
      "char_19      189118 non-null bool\n",
      "char_20      189118 non-null bool\n",
      "char_21      189118 non-null bool\n",
      "char_22      189118 non-null bool\n",
      "char_23      189118 non-null bool\n",
      "char_24      189118 non-null bool\n",
      "char_25      189118 non-null bool\n",
      "char_26      189118 non-null bool\n",
      "char_27      189118 non-null bool\n",
      "char_28      189118 non-null bool\n",
      "char_29      189118 non-null bool\n",
      "char_30      189118 non-null bool\n",
      "char_31      189118 non-null bool\n",
      "char_32      189118 non-null bool\n",
      "char_33      189118 non-null bool\n",
      "char_34      189118 non-null bool\n",
      "char_35      189118 non-null bool\n",
      "char_36      189118 non-null bool\n",
      "char_37      189118 non-null bool\n",
      "char_38      189118 non-null int32\n",
      "dtypes: bool(28), datetime64[ns](1), int32(1), object(11)\n",
      "memory usage: 23.1+ MB\n"
     ]
    }
   ],
   "source": [
    "people_data.info()"
   ]
  },
  {
   "cell_type": "code",
   "execution_count": 7,
   "metadata": {},
   "outputs": [
    {
     "name": "stdout",
     "output_type": "stream",
     "text": [
      "Train data shape: (2197291, 15)\n",
      "Test data shape: (498687, 14)\n",
      "People data shape: (189118, 41)\n"
     ]
    }
   ],
   "source": [
    "print(\"Train data shape: \" + format(act_train_data.shape))\n",
    "print(\"Test data shape: \" + format(act_test_data.shape))\n",
    "print(\"People data shape: \" + format(people_data.shape))"
   ]
  },
  {
   "cell_type": "code",
   "execution_count": 3,
   "metadata": {
    "scrolled": false
   },
   "outputs": [],
   "source": [
    "def reduce_dim(dataset, column):\n",
    "    # summarize those showing only once to one category\n",
    "    for index, dup in dataset[column].duplicated(keep=False).iteritems():\n",
    "        if dup == False:\n",
    "            dataset.set_value(index, column, -1)\n",
    "    # re-index\n",
    "    new_index = {idx:i for i, idx in enumerate(dataset[column].unique())}\n",
    "    dataset[column] = dataset[column].apply(lambda x: new_index[x])\n",
    "    return dataset\n",
    "    \n",
    "def act_data_treatment(dsname):\n",
    "    dataset = dsname\n",
    "    \n",
    "    for col in list(dataset.columns):\n",
    "        if col not in ['people_id', 'activity_id', 'date', 'char_38', 'outcome']:\n",
    "            if dataset[col].dtype == 'object':\n",
    "                # regard NA as a category\n",
    "                dataset[col].fillna('type 0', inplace=True)\n",
    "                dataset[col] = dataset[col].apply(lambda x: x.split(' ')[1]).astype(np.int32)\n",
    "            elif dataset[col].dtype == 'bool':\n",
    "                # change binary feature to type int (0/1)\n",
    "                dataset[col] = dataset[col].astype(np.int8)\n",
    "    \n",
    "    dataset['year'] = dataset['date'].dt.year\n",
    "    dataset['month'] = dataset['date'].dt.month\n",
    "    dataset['day'] = dataset['date'].dt.day\n",
    "    dataset['isweekend'] = (dataset['date'].dt.weekday >= 5).astype('int8')\n",
    "    dataset = dataset.drop('date', axis=1)\n",
    "    \n",
    "    return dataset"
   ]
  },
  {
   "cell_type": "code",
   "execution_count": 4,
   "metadata": {},
   "outputs": [
    {
     "name": "stdout",
     "output_type": "stream",
     "text": [
      "Train data shape: (2197291, 14)\n",
      "Test data shape: (498687, 13)\n",
      "People data shape: (189118, 41)\n"
     ]
    }
   ],
   "source": [
    "act_train_data = act_train_data.drop('char_10', axis=1)\n",
    "act_test_data = act_test_data.drop('char_10', axis=1)\n",
    "\n",
    "print(\"Train data shape: \" + format(act_train_data.shape))\n",
    "print(\"Test data shape: \" + format(act_test_data.shape))\n",
    "print(\"People data shape: \" + format(people_data.shape))"
   ]
  },
  {
   "cell_type": "code",
   "execution_count": 5,
   "metadata": {},
   "outputs": [],
   "source": [
    "act_train_data = act_data_treatment(act_train_data)\n",
    "act_test_data  = act_data_treatment(act_test_data)\n",
    "people_data    = act_data_treatment(people_data)"
   ]
  },
  {
   "cell_type": "code",
   "execution_count": 6,
   "metadata": {},
   "outputs": [],
   "source": [
    "train = act_train_data.merge(people_data, on='people_id', how='left')\n",
    "test  = act_test_data.merge(people_data, on='people_id', how='left')\n",
    "act_id = act_test_data['activity_id']\n",
    "\n",
    "del act_train_data, act_test_data, people_data"
   ]
  },
  {
   "cell_type": "code",
   "execution_count": 12,
   "metadata": {},
   "outputs": [
    {
     "name": "stdout",
     "output_type": "stream",
     "text": [
      "Train data shape: (2197291, 61)\n",
      "Test data shape: (498687, 60)\n"
     ]
    }
   ],
   "source": [
    "print(\"Train data shape: \" + format(train.shape))\n",
    "print(\"Test data shape: \" + format(test.shape))"
   ]
  },
  {
   "cell_type": "code",
   "execution_count": 7,
   "metadata": {
    "scrolled": true
   },
   "outputs": [
    {
     "data": {
      "text/plain": [
       "{'activity_category': 7,\n",
       " 'activity_id': 2197291,\n",
       " 'char_10': 2,\n",
       " 'char_11': 2,\n",
       " 'char_12': 2,\n",
       " 'char_13': 2,\n",
       " 'char_14': 2,\n",
       " 'char_15': 2,\n",
       " 'char_16': 2,\n",
       " 'char_17': 2,\n",
       " 'char_18': 2,\n",
       " 'char_19': 2,\n",
       " 'char_1_x': 52,\n",
       " 'char_1_y': 2,\n",
       " 'char_20': 2,\n",
       " 'char_21': 2,\n",
       " 'char_22': 2,\n",
       " 'char_23': 2,\n",
       " 'char_24': 2,\n",
       " 'char_25': 2,\n",
       " 'char_26': 2,\n",
       " 'char_27': 2,\n",
       " 'char_28': 2,\n",
       " 'char_29': 2,\n",
       " 'char_2_x': 33,\n",
       " 'char_2_y': 3,\n",
       " 'char_30': 2,\n",
       " 'char_31': 2,\n",
       " 'char_32': 2,\n",
       " 'char_33': 2,\n",
       " 'char_34': 2,\n",
       " 'char_35': 2,\n",
       " 'char_36': 2,\n",
       " 'char_37': 2,\n",
       " 'char_38': 101,\n",
       " 'char_3_x': 12,\n",
       " 'char_3_y': 43,\n",
       " 'char_4_x': 8,\n",
       " 'char_4_y': 25,\n",
       " 'char_5_x': 8,\n",
       " 'char_5_y': 9,\n",
       " 'char_6_x': 6,\n",
       " 'char_6_y': 7,\n",
       " 'char_7_x': 9,\n",
       " 'char_7_y': 25,\n",
       " 'char_8_x': 19,\n",
       " 'char_8_y': 8,\n",
       " 'char_9_x': 20,\n",
       " 'char_9_y': 9,\n",
       " 'day_x': 31,\n",
       " 'day_y': 31,\n",
       " 'group_1': 29899,\n",
       " 'isweekend_x': 2,\n",
       " 'isweekend_y': 2,\n",
       " 'month_x': 12,\n",
       " 'month_y': 12,\n",
       " 'outcome': 2,\n",
       " 'people_id': 151295,\n",
       " 'year_x': 2,\n",
       " 'year_y': 4}"
      ]
     },
     "execution_count": 7,
     "metadata": {},
     "output_type": "execute_result"
    }
   ],
   "source": [
    "{col:len(train[col].unique()) for col in train.columns}"
   ]
  },
  {
   "cell_type": "code",
   "execution_count": 9,
   "metadata": {},
   "outputs": [
    {
     "name": "stdout",
     "output_type": "stream",
     "text": [
      "Elapsed time 98.99 seconds for cleaning categorical features.\n",
      "Train data shape: (1757500, 60)\n",
      "Validation data shape: (439791, 60)\n",
      "Test data shape: (498687, 60)\n"
     ]
    }
   ],
   "source": [
    "whole = pd.concat([train, test], ignore_index=True)\n",
    "categorical = ['group_1', 'activity_category', 'char_1_x', 'char_2_x', 'char_3_x', 'char_4_x', 'char_5_x', \n",
    "               'char_6_x', 'char_7_x', 'char_8_x', 'char_9_x', 'char_2_y', 'char_3_y', 'char_4_y', 'char_5_y',\n",
    "               'char_6_y', 'char_7_y', 'char_8_y', 'char_9_y']\n",
    "t0 = time()\n",
    "for category in categorical:\n",
    "    whole = reduce_dim(whole, category)\n",
    "print \"Elapsed time %.2f seconds for cleaning categorical features.\" %(time()-t0)\n",
    "\n",
    "X = whole[:(len(train))]\n",
    "X_test = whole[len(train):]\n",
    "\n",
    "np.random.seed(0)\n",
    "mask = np.random.rand(len(train)) < 0.2\n",
    "X_val, X = X[mask], X[~mask]\n",
    "y_val, y = train['outcome'][mask], train['outcome'][~mask]\n",
    "\n",
    "del whole\n",
    "print(\"Train data shape: \" + format(X.shape))\n",
    "print(\"Validation data shape: \" + format(X_val.shape))\n",
    "print(\"Test data shape: \" + format(X_test.shape))\n",
    "\n",
    "not_categorical = list(set(X.columns)-set(categorical)-{'activity_id','people_id','outcome'})"
   ]
  },
  {
   "cell_type": "code",
   "execution_count": 10,
   "metadata": {},
   "outputs": [
    {
     "data": {
      "text/plain": [
       "0.44402731152204838"
      ]
     },
     "execution_count": 10,
     "metadata": {},
     "output_type": "execute_result"
    }
   ],
   "source": [
    "X_test = X_test.drop('outcome', axis=1)\n",
    "X['outcome'].mean()"
   ]
  },
  {
   "cell_type": "markdown",
   "metadata": {},
   "source": [
    "### Linear function based"
   ]
  },
  {
   "cell_type": "code",
   "execution_count": 27,
   "metadata": {},
   "outputs": [
    {
     "name": "stdout",
     "output_type": "stream",
     "text": [
      "One-hot encoding and transforming to sparse...\n",
      "Elapsed time: 37.33 seconds.\n",
      "Training data: (1757500, 31271)\n",
      "Validating data: (439791, 31271)\n",
      "Test data: (498687, 31271)\n"
     ]
    }
   ],
   "source": [
    "from sklearn.preprocessing import OneHotEncoder\n",
    "\n",
    "print \"One-hot encoding and transforming to sparse...\"\n",
    "t0 = time()\n",
    "enc = OneHotEncoder(handle_unknown='ignore')\n",
    "enc = enc.fit(pd.concat([X[categorical], X_val[categorical], X_test[categorical]]))\n",
    "X_cat_sparse = enc.transform(X[categorical])\n",
    "X_val_cat_sparse = enc.transform(X_val[categorical])\n",
    "X_test_cat_sparse = enc.transform(X_test[categorical])\n",
    "\n",
    "from scipy.sparse import hstack\n",
    "X_sparse = hstack((X[not_categorical], X_cat_sparse))\n",
    "X_val_sparse = hstack((X_val[not_categorical], X_val_cat_sparse))\n",
    "X_test_sparse = hstack((X_test[not_categorical], X_test_cat_sparse))\n",
    "print \"Elapsed time: %.2f seconds.\" %(time()-t0)\n",
    "\n",
    "print(\"Training data: \" + format(X_sparse.shape))\n",
    "print(\"Validating data: \" + format(X_val_sparse.shape))\n",
    "print(\"Test data: \" + format(X_test_sparse.shape))\n",
    "del X, X_val, X_test, X_cat_sparse, X_val_cat_sparse, X_test_cat_sparse"
   ]
  },
  {
   "cell_type": "code",
   "execution_count": 28,
   "metadata": {
    "scrolled": true
   },
   "outputs": [
    {
     "name": "stdout",
     "output_type": "stream",
     "text": [
      "XGBoost initialing...\n",
      "CPU times: user 1min 13s, sys: 22.8 s, total: 1min 36s\n",
      "Wall time: 1min 43s\n"
     ]
    }
   ],
   "source": [
    "%%time\n",
    "print \"XGBoost initialing...\"\n",
    "dtest = xgb.DMatrix(X_test_sparse)\n",
    "dtrain = xgb.DMatrix(X_sparse, label=y)\n",
    "dval = xgb.DMatrix(X_val_sparse, label=y_val)"
   ]
  },
  {
   "cell_type": "code",
   "execution_count": 15,
   "metadata": {
    "collapsed": true
   },
   "outputs": [],
   "source": [
    "class AucCall(object):\n",
    "    def __init__(self, lr_decay):\n",
    "        self.train_auc = []\n",
    "        self.valid_auc = []\n",
    "        self.lr_decay = lr_decay\n",
    "        self.best_val_auc = 0.0\n",
    "    def __call__(self, env):\n",
    "        # Record the evaluation and Save the best model\n",
    "        tr_auc = dict(env.evaluation_result_list)['train-auc']\n",
    "        self.train_auc.append(tr_auc)\n",
    "        val_auc = dict(env.evaluation_result_list)['validation-auc']\n",
    "        self.valid_auc.append(val_auc)\n",
    "        if val_auc > self.best_val_auc:\n",
    "            print \"The BEST val_auc until now. Saving model...\"\n",
    "            self.best_val_auc = val_auc\n",
    "            env.model.save_model('./best_redhat.model')\n",
    "        new_lr_rate = self.rateDecay(env.iteration)\n",
    "        env.model.set_param('eta', new_lr_rate)\n",
    "    def rateDecay(self, iter_round):\n",
    "        # Set learning rate decay\n",
    "        return param['eta'] / (1 + self.lr_decay * iter_round)"
   ]
  },
  {
   "cell_type": "code",
   "execution_count": 32,
   "metadata": {},
   "outputs": [],
   "source": [
    "param = {'nthread':4, 'silent':1, 'objective':'binary:logistic', 'eval_metric':'auc', 'booster':'gblinear', \n",
    "         'eta':0.2, 'alpha': 0., 'lambda':0.2, 'seed':0}\n",
    "watchlist  = [(dtrain,'train'), (dval,'validation')]\n",
    "early_stopping_rounds = 5\n",
    "num_round = 100"
   ]
  },
  {
   "cell_type": "code",
   "execution_count": 33,
   "metadata": {
    "scrolled": true
   },
   "outputs": [
    {
     "name": "stdout",
     "output_type": "stream",
     "text": [
      "Start training...\n",
      "[0]\ttrain-auc:0.951647\tvalidation-auc:0.951301\n",
      "Multiple eval metrics have been passed: 'validation-auc' will be used for early stopping.\n",
      "\n",
      "Will train until validation-auc hasn't improved in 5 rounds.\n",
      "[1]\ttrain-auc:0.984079\tvalidation-auc:0.983475\n",
      "[2]\ttrain-auc:0.991389\tvalidation-auc:0.990851\n",
      "[3]\ttrain-auc:0.993853\tvalidation-auc:0.993354\n",
      "[4]\ttrain-auc:0.995084\tvalidation-auc:0.994607\n",
      "[5]\ttrain-auc:0.995794\tvalidation-auc:0.995331\n",
      "[6]\ttrain-auc:0.996231\tvalidation-auc:0.995778\n",
      "[7]\ttrain-auc:0.996512\tvalidation-auc:0.996068\n",
      "[8]\ttrain-auc:0.996699\tvalidation-auc:0.996265\n",
      "[9]\ttrain-auc:0.996821\tvalidation-auc:0.996398\n",
      "[10]\ttrain-auc:0.996902\tvalidation-auc:0.996489\n",
      "[11]\ttrain-auc:0.996958\tvalidation-auc:0.996553\n",
      "[12]\ttrain-auc:0.996997\tvalidation-auc:0.996597\n",
      "[13]\ttrain-auc:0.997025\tvalidation-auc:0.996629\n",
      "[14]\ttrain-auc:0.997045\tvalidation-auc:0.996652\n",
      "[15]\ttrain-auc:0.99706\tvalidation-auc:0.996668\n",
      "[16]\ttrain-auc:0.997072\tvalidation-auc:0.996681\n",
      "[17]\ttrain-auc:0.99708\tvalidation-auc:0.996691\n",
      "[18]\ttrain-auc:0.997087\tvalidation-auc:0.996699\n",
      "[19]\ttrain-auc:0.997092\tvalidation-auc:0.996705\n",
      "[20]\ttrain-auc:0.997096\tvalidation-auc:0.99671\n",
      "[21]\ttrain-auc:0.9971\tvalidation-auc:0.996714\n",
      "[22]\ttrain-auc:0.997103\tvalidation-auc:0.996717\n",
      "[23]\ttrain-auc:0.997105\tvalidation-auc:0.996719\n",
      "[24]\ttrain-auc:0.997107\tvalidation-auc:0.996722\n",
      "[25]\ttrain-auc:0.997109\tvalidation-auc:0.996723\n",
      "[26]\ttrain-auc:0.99711\tvalidation-auc:0.996725\n",
      "[27]\ttrain-auc:0.997112\tvalidation-auc:0.996726\n",
      "[28]\ttrain-auc:0.997113\tvalidation-auc:0.996728\n",
      "[29]\ttrain-auc:0.997114\tvalidation-auc:0.996729\n",
      "[30]\ttrain-auc:0.997116\tvalidation-auc:0.99673\n",
      "[31]\ttrain-auc:0.997117\tvalidation-auc:0.996731\n",
      "[32]\ttrain-auc:0.997118\tvalidation-auc:0.996732\n",
      "[33]\ttrain-auc:0.997118\tvalidation-auc:0.996733\n",
      "[34]\ttrain-auc:0.997119\tvalidation-auc:0.996734\n",
      "[35]\ttrain-auc:0.99712\tvalidation-auc:0.996734\n",
      "[36]\ttrain-auc:0.997121\tvalidation-auc:0.996735\n",
      "[37]\ttrain-auc:0.997122\tvalidation-auc:0.996736\n",
      "[38]\ttrain-auc:0.997122\tvalidation-auc:0.996736\n",
      "[39]\ttrain-auc:0.997123\tvalidation-auc:0.996737\n",
      "[40]\ttrain-auc:0.997123\tvalidation-auc:0.996738\n",
      "[41]\ttrain-auc:0.997124\tvalidation-auc:0.996738\n",
      "[42]\ttrain-auc:0.997124\tvalidation-auc:0.996739\n",
      "[43]\ttrain-auc:0.997125\tvalidation-auc:0.996739\n",
      "[44]\ttrain-auc:0.997126\tvalidation-auc:0.99674\n",
      "[45]\ttrain-auc:0.997126\tvalidation-auc:0.99674\n",
      "[46]\ttrain-auc:0.997126\tvalidation-auc:0.996741\n",
      "[47]\ttrain-auc:0.997127\tvalidation-auc:0.996741\n",
      "[48]\ttrain-auc:0.997127\tvalidation-auc:0.996742\n",
      "[49]\ttrain-auc:0.997128\tvalidation-auc:0.996742\n",
      "[50]\ttrain-auc:0.997128\tvalidation-auc:0.996742\n",
      "[51]\ttrain-auc:0.997128\tvalidation-auc:0.996743\n",
      "[52]\ttrain-auc:0.997129\tvalidation-auc:0.996743\n",
      "[53]\ttrain-auc:0.997129\tvalidation-auc:0.996743\n",
      "[54]\ttrain-auc:0.997129\tvalidation-auc:0.996744\n",
      "[55]\ttrain-auc:0.99713\tvalidation-auc:0.996744\n",
      "[56]\ttrain-auc:0.99713\tvalidation-auc:0.996744\n",
      "[57]\ttrain-auc:0.99713\tvalidation-auc:0.996745\n",
      "[58]\ttrain-auc:0.997131\tvalidation-auc:0.996745\n",
      "[59]\ttrain-auc:0.997131\tvalidation-auc:0.996745\n",
      "[60]\ttrain-auc:0.997131\tvalidation-auc:0.996745\n",
      "[61]\ttrain-auc:0.997131\tvalidation-auc:0.996746\n",
      "[62]\ttrain-auc:0.997132\tvalidation-auc:0.996746\n",
      "[63]\ttrain-auc:0.997132\tvalidation-auc:0.996746\n",
      "[64]\ttrain-auc:0.997132\tvalidation-auc:0.996746\n",
      "[65]\ttrain-auc:0.997132\tvalidation-auc:0.996747\n",
      "[66]\ttrain-auc:0.997133\tvalidation-auc:0.996747\n",
      "[67]\ttrain-auc:0.997133\tvalidation-auc:0.996747\n",
      "[68]\ttrain-auc:0.997133\tvalidation-auc:0.996747\n",
      "[69]\ttrain-auc:0.997133\tvalidation-auc:0.996747\n",
      "[70]\ttrain-auc:0.997133\tvalidation-auc:0.996748\n",
      "[71]\ttrain-auc:0.997134\tvalidation-auc:0.996748\n",
      "[72]\ttrain-auc:0.997134\tvalidation-auc:0.996748\n",
      "[73]\ttrain-auc:0.997134\tvalidation-auc:0.996748\n",
      "[74]\ttrain-auc:0.997134\tvalidation-auc:0.996748\n",
      "[75]\ttrain-auc:0.997134\tvalidation-auc:0.996748\n",
      "Stopping. Best iteration:\n",
      "[70]\ttrain-auc:0.997133\tvalidation-auc:0.996748\n",
      "\n",
      "CPU times: user 1min 54s, sys: 1.35 s, total: 1min 55s\n",
      "Wall time: 1min 6s\n"
     ]
    }
   ],
   "source": [
    "%%time\n",
    "print(\"Start training...\")\n",
    "bst = xgb.train(param, dtrain, num_round, watchlist, early_stopping_rounds=early_stopping_rounds)\n",
    "# test auc: 0.9806"
   ]
  },
  {
   "cell_type": "code",
   "execution_count": 34,
   "metadata": {},
   "outputs": [],
   "source": [
    "pred = bst.predict(dtest)\n",
    "submit = pd.DataFrame({ 'activity_id': act_id, 'outcome': pred })\n",
    "submit.to_csv('eval_gbl_init.csv', index=False)"
   ]
  },
  {
   "cell_type": "code",
   "execution_count": 35,
   "metadata": {},
   "outputs": [],
   "source": [
    "from sklearn.metrics import roc_auc_score\n",
    "from sklearn.metrics import roc_curve\n",
    "\n",
    "pred_val = bst.predict(dval)\n",
    "val_score = roc_auc_score(y_val, pred_val)\n",
    "fpr, tpr, thresholds = roc_curve(y_val, pred_val)"
   ]
  },
  {
   "cell_type": "code",
   "execution_count": 36,
   "metadata": {},
   "outputs": [
    {
     "name": "stdout",
     "output_type": "stream",
     "text": [
      "validation accuracy: 96.9583%\n",
      "validation auc score: 0.9967\n"
     ]
    }
   ],
   "source": [
    "print('validation accuracy: %.4f%%' % (np.mean((pred_val>=0.5).astype(int) == y_val)*100))\n",
    "print('validation auc score: %.4f' % val_score)"
   ]
  },
  {
   "cell_type": "code",
   "execution_count": 37,
   "metadata": {},
   "outputs": [
    {
     "data": {
      "image/png": "[encoded data removed]",
      "text/plain": [
       "<matplotlib.figure.Figure at 0x110ed4090>"
      ]
     },
     "metadata": {},
     "output_type": "display_data"
    }
   ],
   "source": [
    "plt.figure(figsize=(6,5))\n",
    "plt.plot(fpr, tpr, color='darkorange',\n",
    "         lw=2, label='ROC curve (area = %0.4f)' % val_score)\n",
    "plt.plot([0, 1], [0, 1], color='navy', lw=2, linestyle='--')\n",
    "plt.xlim([-0.02, 1.0])\n",
    "plt.ylim([0.0, 1.02])\n",
    "plt.xlabel('False Positive Rate')\n",
    "plt.ylabel('True Positive Rate')\n",
    "plt.title('Receiver operating characteristic (ROC) curve')\n",
    "plt.legend(loc=\"lower right\")\n",
    "#plt.axis('tight')\n",
    "plt.show()"
   ]
  },
  {
   "cell_type": "code",
   "execution_count": 38,
   "metadata": {},
   "outputs": [
    {
     "name": "stdout",
     "output_type": "stream",
     "text": [
      "[[235997   8675]\n",
      " [  4702 190417]]\n"
     ]
    },
    {
     "data": {
      "image/png": "[encoded data removed]",
      "text/plain": [
       "<matplotlib.figure.Figure at 0x10ee98890>"
      ]
     },
     "metadata": {},
     "output_type": "display_data"
    }
   ],
   "source": [
    "cm = confusion_matrix(y_val, (pred_val>=0.5).astype(int))\n",
    "plot_confusion_matrix(cm, [0,1])"
   ]
  },
  {
   "cell_type": "code",
   "execution_count": 39,
   "metadata": {},
   "outputs": [
    {
     "name": "stdout",
     "output_type": "stream",
     "text": [
      "[[ 0.5366  0.0197]\n",
      " [ 0.0107  0.433 ]]\n"
     ]
    },
    {
     "data": {
      "image/png": "[encoded data removed]",
      "text/plain": [
       "<matplotlib.figure.Figure at 0x10f4be250>"
      ]
     },
     "metadata": {},
     "output_type": "display_data"
    }
   ],
   "source": [
    "plot_confusion_matrix(cm / float(len(y_val)), [0,1])"
   ]
  },
  {
   "cell_type": "markdown",
   "metadata": {},
   "source": [
    "### Tree-based"
   ]
  },
  {
   "cell_type": "code",
   "execution_count": 42,
   "metadata": {},
   "outputs": [
    {
     "name": "stdout",
     "output_type": "stream",
     "text": [
      "One-hot encoding and transforming to sparse...\n",
      "Elapsed time: 53.26 seconds.\n",
      "Training data: (1757500, 31271)\n",
      "Validating data: (439791, 31271)\n",
      "Test data: (498687, 31271)\n"
     ]
    }
   ],
   "source": [
    "from sklearn.preprocessing import OneHotEncoder\n",
    "\n",
    "print \"One-hot encoding and transforming to sparse...\"\n",
    "t0 = time()\n",
    "enc = OneHotEncoder(handle_unknown='ignore')\n",
    "enc = enc.fit(pd.concat([X[categorical], X_val[categorical], X_test[categorical]]))\n",
    "X_cat_sparse = enc.transform(X[categorical])\n",
    "X_val_cat_sparse = enc.transform(X_val[categorical])\n",
    "X_test_cat_sparse = enc.transform(X_test[categorical])\n",
    "\n",
    "from scipy.sparse import hstack\n",
    "X_sparse = hstack((X[not_categorical], X_cat_sparse))\n",
    "X_val_sparse = hstack((X_val[not_categorical], X_val_cat_sparse))\n",
    "X_test_sparse = hstack((X_test[not_categorical], X_test_cat_sparse))\n",
    "print \"Elapsed time: %.2f seconds.\" %(time()-t0)\n",
    "\n",
    "print(\"Training data: \" + format(X_sparse.shape))\n",
    "print(\"Validating data: \" + format(X_val_sparse.shape))\n",
    "print(\"Test data: \" + format(X_test_sparse.shape))\n",
    "del X, X_val, X_test, X_cat_sparse, X_val_cat_sparse, X_test_cat_sparse"
   ]
  },
  {
   "cell_type": "code",
   "execution_count": 43,
   "metadata": {
    "scrolled": true
   },
   "outputs": [
    {
     "name": "stdout",
     "output_type": "stream",
     "text": [
      "XGBoost initialing...\n",
      "CPU times: user 1min 31s, sys: 27.1 s, total: 1min 58s\n",
      "Wall time: 2min 9s\n"
     ]
    }
   ],
   "source": [
    "%%time\n",
    "print \"XGBoost initialing...\"\n",
    "dtest = xgb.DMatrix(X_test_sparse)\n",
    "dtrain = xgb.DMatrix(X_sparse, label=y)\n",
    "dval = xgb.DMatrix(X_val_sparse, label=y_val)"
   ]
  },
  {
   "cell_type": "code",
   "execution_count": 44,
   "metadata": {},
   "outputs": [],
   "source": [
    "param = {'nthread':4, 'silent':1, 'objective':'binary:logistic', 'eval_metric':'auc', 'booster':'gbtree', \n",
    "         'eta':0.2, 'max_depth': 8, 'subsample':0.8, 'colsample_bytree':0.5, 'seed':0}\n",
    "watchlist  = [(dtrain,'train'), (dval,'validation')]\n",
    "early_stopping_rounds = 10\n",
    "num_round = 100"
   ]
  },
  {
   "cell_type": "code",
   "execution_count": 45,
   "metadata": {
    "scrolled": true
   },
   "outputs": [
    {
     "name": "stdout",
     "output_type": "stream",
     "text": [
      "Start training...\n",
      "[0]\ttrain-auc:0.909172\tvalidation-auc:0.909688\n",
      "Multiple eval metrics have been passed: 'validation-auc' will be used for early stopping.\n",
      "\n",
      "Will train until validation-auc hasn't improved in 10 rounds.\n",
      "[1]\ttrain-auc:0.916019\tvalidation-auc:0.916333\n",
      "[2]\ttrain-auc:0.918006\tvalidation-auc:0.918399\n",
      "[3]\ttrain-auc:0.922536\tvalidation-auc:0.922838\n",
      "[4]\ttrain-auc:0.927464\tvalidation-auc:0.92781\n",
      "[5]\ttrain-auc:0.929506\tvalidation-auc:0.929683\n",
      "[6]\ttrain-auc:0.931394\tvalidation-auc:0.931545\n",
      "[7]\ttrain-auc:0.932208\tvalidation-auc:0.932405\n",
      "[8]\ttrain-auc:0.932938\tvalidation-auc:0.933067\n",
      "[9]\ttrain-auc:0.933364\tvalidation-auc:0.933537\n",
      "[10]\ttrain-auc:0.935008\tvalidation-auc:0.935107\n",
      "[11]\ttrain-auc:0.935613\tvalidation-auc:0.935707\n",
      "[12]\ttrain-auc:0.936261\tvalidation-auc:0.93644\n",
      "[13]\ttrain-auc:0.937856\tvalidation-auc:0.938037\n",
      "[14]\ttrain-auc:0.938288\tvalidation-auc:0.938451\n",
      "[15]\ttrain-auc:0.938813\tvalidation-auc:0.938957\n",
      "[16]\ttrain-auc:0.939595\tvalidation-auc:0.939732\n",
      "[17]\ttrain-auc:0.940145\tvalidation-auc:0.940249\n",
      "[18]\ttrain-auc:0.940334\tvalidation-auc:0.940415\n",
      "[19]\ttrain-auc:0.940795\tvalidation-auc:0.940834\n",
      "[20]\ttrain-auc:0.941491\tvalidation-auc:0.941517\n",
      "[21]\ttrain-auc:0.941899\tvalidation-auc:0.94192\n",
      "[22]\ttrain-auc:0.942198\tvalidation-auc:0.942221\n",
      "[23]\ttrain-auc:0.942602\tvalidation-auc:0.942599\n",
      "[24]\ttrain-auc:0.942916\tvalidation-auc:0.942964\n",
      "[25]\ttrain-auc:0.943278\tvalidation-auc:0.943349\n",
      "[26]\ttrain-auc:0.943628\tvalidation-auc:0.943713\n",
      "[27]\ttrain-auc:0.944116\tvalidation-auc:0.944226\n",
      "[28]\ttrain-auc:0.944632\tvalidation-auc:0.944763\n",
      "[29]\ttrain-auc:0.944792\tvalidation-auc:0.944901\n",
      "[30]\ttrain-auc:0.945119\tvalidation-auc:0.945202\n",
      "[31]\ttrain-auc:0.945411\tvalidation-auc:0.945493\n",
      "[32]\ttrain-auc:0.945618\tvalidation-auc:0.945677\n",
      "[33]\ttrain-auc:0.945945\tvalidation-auc:0.945988\n",
      "[34]\ttrain-auc:0.946126\tvalidation-auc:0.946219\n",
      "[35]\ttrain-auc:0.946334\tvalidation-auc:0.946415\n",
      "[36]\ttrain-auc:0.94651\tvalidation-auc:0.946606\n",
      "[37]\ttrain-auc:0.946744\tvalidation-auc:0.946845\n",
      "[38]\ttrain-auc:0.947043\tvalidation-auc:0.94716\n",
      "[39]\ttrain-auc:0.947362\tvalidation-auc:0.947481\n",
      "[40]\ttrain-auc:0.947869\tvalidation-auc:0.947935\n",
      "[41]\ttrain-auc:0.948092\tvalidation-auc:0.948173\n",
      "[42]\ttrain-auc:0.948325\tvalidation-auc:0.948395\n",
      "[43]\ttrain-auc:0.948503\tvalidation-auc:0.948589\n",
      "[44]\ttrain-auc:0.948678\tvalidation-auc:0.948764\n",
      "[45]\ttrain-auc:0.948883\tvalidation-auc:0.948991\n",
      "[46]\ttrain-auc:0.949\tvalidation-auc:0.949128\n",
      "[47]\ttrain-auc:0.949264\tvalidation-auc:0.94939\n",
      "[48]\ttrain-auc:0.949449\tvalidation-auc:0.949556\n",
      "[49]\ttrain-auc:0.949664\tvalidation-auc:0.949756\n",
      "[50]\ttrain-auc:0.949828\tvalidation-auc:0.949913\n",
      "[51]\ttrain-auc:0.95004\tvalidation-auc:0.950131\n",
      "[52]\ttrain-auc:0.95025\tvalidation-auc:0.950352\n",
      "[53]\ttrain-auc:0.950464\tvalidation-auc:0.950566\n",
      "[54]\ttrain-auc:0.95065\tvalidation-auc:0.950765\n",
      "[55]\ttrain-auc:0.950872\tvalidation-auc:0.95097\n",
      "[56]\ttrain-auc:0.951075\tvalidation-auc:0.95118\n",
      "[57]\ttrain-auc:0.951089\tvalidation-auc:0.9512\n",
      "[58]\ttrain-auc:0.951344\tvalidation-auc:0.951436\n",
      "[59]\ttrain-auc:0.951508\tvalidation-auc:0.951586\n",
      "[60]\ttrain-auc:0.951679\tvalidation-auc:0.951736\n",
      "[61]\ttrain-auc:0.952033\tvalidation-auc:0.952074\n",
      "[62]\ttrain-auc:0.95219\tvalidation-auc:0.952225\n",
      "[63]\ttrain-auc:0.952394\tvalidation-auc:0.952432\n",
      "[64]\ttrain-auc:0.952524\tvalidation-auc:0.95257\n",
      "[65]\ttrain-auc:0.952657\tvalidation-auc:0.952706\n",
      "[66]\ttrain-auc:0.952789\tvalidation-auc:0.952812\n",
      "[67]\ttrain-auc:0.953035\tvalidation-auc:0.953034\n",
      "[68]\ttrain-auc:0.953262\tvalidation-auc:0.95327\n",
      "[69]\ttrain-auc:0.953442\tvalidation-auc:0.953478\n",
      "[70]\ttrain-auc:0.953599\tvalidation-auc:0.953624\n",
      "[71]\ttrain-auc:0.953766\tvalidation-auc:0.953811\n",
      "[72]\ttrain-auc:0.953939\tvalidation-auc:0.953975\n",
      "[73]\ttrain-auc:0.954107\tvalidation-auc:0.954134\n",
      "[74]\ttrain-auc:0.954224\tvalidation-auc:0.954245\n",
      "[75]\ttrain-auc:0.954499\tvalidation-auc:0.954499\n",
      "[76]\ttrain-auc:0.95469\tvalidation-auc:0.954686\n",
      "[77]\ttrain-auc:0.954805\tvalidation-auc:0.954829\n",
      "[78]\ttrain-auc:0.954926\tvalidation-auc:0.954952\n",
      "[79]\ttrain-auc:0.955103\tvalidation-auc:0.95514\n",
      "[80]\ttrain-auc:0.955241\tvalidation-auc:0.955263\n",
      "[81]\ttrain-auc:0.95541\tvalidation-auc:0.955434\n",
      "[82]\ttrain-auc:0.955567\tvalidation-auc:0.955593\n",
      "[83]\ttrain-auc:0.955752\tvalidation-auc:0.955772\n",
      "[84]\ttrain-auc:0.955817\tvalidation-auc:0.955835\n",
      "[85]\ttrain-auc:0.955921\tvalidation-auc:0.955918\n",
      "[86]\ttrain-auc:0.956451\tvalidation-auc:0.95644\n",
      "[87]\ttrain-auc:0.956601\tvalidation-auc:0.956559\n",
      "[88]\ttrain-auc:0.95675\tvalidation-auc:0.956674\n",
      "[89]\ttrain-auc:0.956829\tvalidation-auc:0.956755\n",
      "[90]\ttrain-auc:0.95695\tvalidation-auc:0.956849\n",
      "[91]\ttrain-auc:0.957103\tvalidation-auc:0.956971\n",
      "[92]\ttrain-auc:0.957113\tvalidation-auc:0.956979\n",
      "[93]\ttrain-auc:0.957216\tvalidation-auc:0.957096\n",
      "[94]\ttrain-auc:0.95734\tvalidation-auc:0.957237\n",
      "[95]\ttrain-auc:0.957446\tvalidation-auc:0.957355\n",
      "[96]\ttrain-auc:0.957514\tvalidation-auc:0.957404\n",
      "[97]\ttrain-auc:0.957658\tvalidation-auc:0.957536\n",
      "[98]\ttrain-auc:0.957751\tvalidation-auc:0.957626\n",
      "[99]\ttrain-auc:0.957805\tvalidation-auc:0.957683\n",
      "CPU times: user 7min 59s, sys: 3.66 s, total: 8min 3s\n",
      "Wall time: 2min 46s\n"
     ]
    }
   ],
   "source": [
    "%%time\n",
    "print(\"Start training...\")\n",
    "bst = xgb.train(param, dtrain, num_round, watchlist, early_stopping_rounds=early_stopping_rounds)\n",
    "# test auc: 0.9314"
   ]
  },
  {
   "cell_type": "code",
   "execution_count": 46,
   "metadata": {},
   "outputs": [],
   "source": [
    "pred = bst.predict(dtest)\n",
    "submit = pd.DataFrame({ 'activity_id': act_id, 'outcome': pred })\n",
    "submit.to_csv('eval_gbt_init.csv', index=False)"
   ]
  },
  {
   "cell_type": "markdown",
   "metadata": {},
   "source": [
    "With no one-hot encoding"
   ]
  },
  {
   "cell_type": "code",
   "execution_count": 11,
   "metadata": {
    "scrolled": true
   },
   "outputs": [
    {
     "name": "stdout",
     "output_type": "stream",
     "text": [
      "XGBoost initialing...\n",
      "CPU times: user 4.54 s, sys: 8.58 s, total: 13.1 s\n",
      "Wall time: 16.3 s\n"
     ]
    }
   ],
   "source": [
    "%%time\n",
    "print \"XGBoost initialing...\"\n",
    "dtest = xgb.DMatrix(X_test.drop(['activity_id', 'people_id'], axis=1))\n",
    "dtrain = xgb.DMatrix(X.drop(['activity_id', 'people_id', 'outcome'], axis=1), label=y)\n",
    "dval = xgb.DMatrix(X_val.drop(['activity_id', 'people_id', 'outcome'], axis=1), label=y_val)"
   ]
  },
  {
   "cell_type": "code",
   "execution_count": 21,
   "metadata": {},
   "outputs": [],
   "source": [
    "param = {'nthread':4, 'silent':1, 'objective':'binary:logistic', 'eval_metric':'auc', 'booster':'gbtree', \n",
    "         'eta':0.2, 'max_depth': 8, 'subsample':0.8, 'colsample_bytree':0.5, 'seed':0}\n",
    "watchlist  = [(dtrain,'train'), (dval,'validation')]\n",
    "early_stopping_rounds = 10\n",
    "num_round = 100"
   ]
  },
  {
   "cell_type": "code",
   "execution_count": 22,
   "metadata": {
    "scrolled": true
   },
   "outputs": [
    {
     "name": "stdout",
     "output_type": "stream",
     "text": [
      "Start training...\n",
      "[0]\ttrain-auc:0.912029\tvalidation-auc:0.912583\n",
      "Multiple eval metrics have been passed: 'validation-auc' will be used for early stopping.\n",
      "\n",
      "Will train until validation-auc hasn't improved in 10 rounds.\n",
      "[1]\ttrain-auc:0.935972\tvalidation-auc:0.936042\n",
      "[2]\ttrain-auc:0.940098\tvalidation-auc:0.940098\n",
      "[3]\ttrain-auc:0.946023\tvalidation-auc:0.946008\n",
      "[4]\ttrain-auc:0.946462\tvalidation-auc:0.946469\n",
      "[5]\ttrain-auc:0.949036\tvalidation-auc:0.949152\n",
      "[6]\ttrain-auc:0.949695\tvalidation-auc:0.949836\n",
      "[7]\ttrain-auc:0.949954\tvalidation-auc:0.950112\n",
      "[8]\ttrain-auc:0.952313\tvalidation-auc:0.952345\n",
      "[9]\ttrain-auc:0.953944\tvalidation-auc:0.954003\n",
      "[10]\ttrain-auc:0.954958\tvalidation-auc:0.954976\n",
      "[11]\ttrain-auc:0.956255\tvalidation-auc:0.956229\n",
      "[12]\ttrain-auc:0.957157\tvalidation-auc:0.957093\n",
      "[13]\ttrain-auc:0.957602\tvalidation-auc:0.957484\n",
      "[14]\ttrain-auc:0.958215\tvalidation-auc:0.958074\n",
      "[15]\ttrain-auc:0.958682\tvalidation-auc:0.958524\n",
      "[16]\ttrain-auc:0.958973\tvalidation-auc:0.958797\n",
      "[17]\ttrain-auc:0.959996\tvalidation-auc:0.959813\n",
      "[18]\ttrain-auc:0.960821\tvalidation-auc:0.960623\n",
      "[19]\ttrain-auc:0.9618\tvalidation-auc:0.96161\n",
      "[20]\ttrain-auc:0.962634\tvalidation-auc:0.962418\n",
      "[21]\ttrain-auc:0.963143\tvalidation-auc:0.962915\n",
      "[22]\ttrain-auc:0.96343\tvalidation-auc:0.963183\n",
      "[23]\ttrain-auc:0.963994\tvalidation-auc:0.963795\n",
      "[24]\ttrain-auc:0.964335\tvalidation-auc:0.964145\n",
      "[25]\ttrain-auc:0.964919\tvalidation-auc:0.964724\n",
      "[26]\ttrain-auc:0.965264\tvalidation-auc:0.965031\n",
      "[27]\ttrain-auc:0.965528\tvalidation-auc:0.965286\n",
      "[28]\ttrain-auc:0.96593\tvalidation-auc:0.965695\n",
      "[29]\ttrain-auc:0.966232\tvalidation-auc:0.965995\n",
      "[30]\ttrain-auc:0.966589\tvalidation-auc:0.966354\n",
      "[31]\ttrain-auc:0.966897\tvalidation-auc:0.966651\n",
      "[32]\ttrain-auc:0.967108\tvalidation-auc:0.966861\n",
      "[33]\ttrain-auc:0.967703\tvalidation-auc:0.967444\n",
      "[34]\ttrain-auc:0.967956\tvalidation-auc:0.967699\n",
      "[35]\ttrain-auc:0.9689\tvalidation-auc:0.968632\n",
      "[36]\ttrain-auc:0.969366\tvalidation-auc:0.969095\n",
      "[37]\ttrain-auc:0.970293\tvalidation-auc:0.970003\n",
      "[38]\ttrain-auc:0.970697\tvalidation-auc:0.97042\n",
      "[39]\ttrain-auc:0.971066\tvalidation-auc:0.970803\n",
      "[40]\ttrain-auc:0.971404\tvalidation-auc:0.9711\n",
      "[41]\ttrain-auc:0.971683\tvalidation-auc:0.971351\n",
      "[42]\ttrain-auc:0.97213\tvalidation-auc:0.97179\n",
      "[43]\ttrain-auc:0.972827\tvalidation-auc:0.972448\n",
      "[44]\ttrain-auc:0.973044\tvalidation-auc:0.972645\n",
      "[45]\ttrain-auc:0.97322\tvalidation-auc:0.9728\n",
      "[46]\ttrain-auc:0.973719\tvalidation-auc:0.973279\n",
      "[47]\ttrain-auc:0.974059\tvalidation-auc:0.973588\n",
      "[48]\ttrain-auc:0.974236\tvalidation-auc:0.973762\n",
      "[49]\ttrain-auc:0.97439\tvalidation-auc:0.973923\n",
      "[50]\ttrain-auc:0.974543\tvalidation-auc:0.974076\n",
      "[51]\ttrain-auc:0.974567\tvalidation-auc:0.974079\n",
      "[52]\ttrain-auc:0.974704\tvalidation-auc:0.974218\n",
      "[53]\ttrain-auc:0.975007\tvalidation-auc:0.974508\n",
      "[54]\ttrain-auc:0.975274\tvalidation-auc:0.974765\n",
      "[55]\ttrain-auc:0.975499\tvalidation-auc:0.974977\n",
      "[56]\ttrain-auc:0.97569\tvalidation-auc:0.975153\n",
      "[57]\ttrain-auc:0.975955\tvalidation-auc:0.975406\n",
      "[58]\ttrain-auc:0.976148\tvalidation-auc:0.975591\n",
      "[59]\ttrain-auc:0.976524\tvalidation-auc:0.975952\n",
      "[60]\ttrain-auc:0.977048\tvalidation-auc:0.976493\n",
      "[61]\ttrain-auc:0.977166\tvalidation-auc:0.976611\n",
      "[62]\ttrain-auc:0.977283\tvalidation-auc:0.97671\n",
      "[63]\ttrain-auc:0.977474\tvalidation-auc:0.976908\n",
      "[64]\ttrain-auc:0.977923\tvalidation-auc:0.977347\n",
      "[65]\ttrain-auc:0.978241\tvalidation-auc:0.977656\n",
      "[66]\ttrain-auc:0.97842\tvalidation-auc:0.977816\n",
      "[67]\ttrain-auc:0.978698\tvalidation-auc:0.978093\n",
      "[68]\ttrain-auc:0.978859\tvalidation-auc:0.978238\n",
      "[69]\ttrain-auc:0.978959\tvalidation-auc:0.978334\n",
      "[70]\ttrain-auc:0.979127\tvalidation-auc:0.978503\n",
      "[71]\ttrain-auc:0.979379\tvalidation-auc:0.97874\n",
      "[72]\ttrain-auc:0.979584\tvalidation-auc:0.978927\n",
      "[73]\ttrain-auc:0.979642\tvalidation-auc:0.978984\n",
      "[74]\ttrain-auc:0.979992\tvalidation-auc:0.979313\n",
      "[75]\ttrain-auc:0.980249\tvalidation-auc:0.979556\n",
      "[76]\ttrain-auc:0.980379\tvalidation-auc:0.979683\n",
      "[77]\ttrain-auc:0.980619\tvalidation-auc:0.979926\n",
      "[78]\ttrain-auc:0.98078\tvalidation-auc:0.98009\n",
      "[79]\ttrain-auc:0.980896\tvalidation-auc:0.980202\n",
      "[80]\ttrain-auc:0.980967\tvalidation-auc:0.980265\n",
      "[81]\ttrain-auc:0.981134\tvalidation-auc:0.980411\n",
      "[82]\ttrain-auc:0.981437\tvalidation-auc:0.980716\n",
      "[83]\ttrain-auc:0.98161\tvalidation-auc:0.980903\n",
      "[84]\ttrain-auc:0.981802\tvalidation-auc:0.9811\n",
      "[85]\ttrain-auc:0.981951\tvalidation-auc:0.981258\n",
      "[86]\ttrain-auc:0.982145\tvalidation-auc:0.981441\n",
      "[87]\ttrain-auc:0.982242\tvalidation-auc:0.981535\n",
      "[88]\ttrain-auc:0.98228\tvalidation-auc:0.981566\n",
      "[89]\ttrain-auc:0.982404\tvalidation-auc:0.981675\n",
      "[90]\ttrain-auc:0.982528\tvalidation-auc:0.981806\n",
      "[91]\ttrain-auc:0.982693\tvalidation-auc:0.981969\n",
      "[92]\ttrain-auc:0.982826\tvalidation-auc:0.982087\n",
      "[93]\ttrain-auc:0.982965\tvalidation-auc:0.98222\n",
      "[94]\ttrain-auc:0.983279\tvalidation-auc:0.982533\n",
      "[95]\ttrain-auc:0.983559\tvalidation-auc:0.982804\n",
      "[96]\ttrain-auc:0.983568\tvalidation-auc:0.982808\n",
      "[97]\ttrain-auc:0.983787\tvalidation-auc:0.98302\n",
      "[98]\ttrain-auc:0.983908\tvalidation-auc:0.983139\n",
      "[99]\ttrain-auc:0.984162\tvalidation-auc:0.983389\n",
      "CPU times: user 12min 10s, sys: 28.5 s, total: 12min 38s\n",
      "Wall time: 4min 14s\n"
     ]
    }
   ],
   "source": [
    "%%time\n",
    "print(\"Start training...\")\n",
    "bst = xgb.train(param, dtrain, num_round, watchlist, early_stopping_rounds=early_stopping_rounds)\n",
    "# test auc: 0.9539 "
   ]
  },
  {
   "cell_type": "code",
   "execution_count": 19,
   "metadata": {},
   "outputs": [],
   "source": [
    "pred = bst.predict(dtest)\n",
    "submit = pd.DataFrame({ 'activity_id': act_id, 'outcome': pred })\n",
    "submit.to_csv('eval_gbt_init.csv', index=False)"
   ]
  },
  {
   "cell_type": "code",
   "execution_count": 32,
   "metadata": {
    "scrolled": true
   },
   "outputs": [
    {
     "data": {
      "text/plain": [
       "<matplotlib.axes._subplots.AxesSubplot at 0x112357fd0>"
      ]
     },
     "execution_count": 32,
     "metadata": {},
     "output_type": "execute_result"
    },
    {
     "data": {
      "image/png": "[encoded data removed]",
      "text/plain": [
       "<matplotlib.figure.Figure at 0x111a58d50>"
      ]
     },
     "metadata": {},
     "output_type": "display_data"
    }
   ],
   "source": [
    "plt.style.use('ggplot')\n",
    "from xgboost import plot_importance\n",
    "\n",
    "fig, fscore_ax = plt.subplots(figsize=(8,24))\n",
    "plot_importance(bst, ax=fscore_ax)"
   ]
  },
  {
   "cell_type": "code",
   "execution_count": null,
   "metadata": {
    "collapsed": true
   },
   "outputs": [],
   "source": []
  }
 ],
 "metadata": {
  "kernelspec": {
   "display_name": "Python 2",
   "language": "python",
   "name": "python2"
  },
  "language_info": {
   "codemirror_mode": {
    "name": "ipython",
    "version": 2
   },
   "file_extension": ".py",
   "mimetype": "text/x-python",
   "name": "python",
   "nbconvert_exporter": "python",
   "pygments_lexer": "ipython2",
   "version": "2.7.13"
  }
 },
 "nbformat": 4,
 "nbformat_minor": 1
}
